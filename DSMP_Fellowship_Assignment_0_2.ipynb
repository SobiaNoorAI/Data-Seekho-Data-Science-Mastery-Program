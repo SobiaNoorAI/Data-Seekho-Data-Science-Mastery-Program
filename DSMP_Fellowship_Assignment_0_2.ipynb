{
  "nbformat": 4,
  "nbformat_minor": 0,
  "metadata": {
    "colab": {
      "provenance": [],
      "authorship_tag": "ABX9TyM/nDQjri3i/1vbbrVOB4lh",
      "include_colab_link": true
    },
    "kernelspec": {
      "name": "python3",
      "display_name": "Python 3"
    },
    "language_info": {
      "name": "python"
    }
  },
  "cells": [
    {
      "cell_type": "markdown",
      "metadata": {
        "id": "view-in-github",
        "colab_type": "text"
      },
      "source": [
        "<a href=\"https://colab.research.google.com/github/SobiaNoorAI/Data-Seekho-Data-Science-Mastery-Program/blob/main/DSMP_Fellowship_Assignment_0_2.ipynb\" target=\"_parent\"><img src=\"https://colab.research.google.com/assets/colab-badge.svg\" alt=\"Open In Colab\"/></a>"
      ]
    },
    {
      "cell_type": "markdown",
      "source": [
        "\n",
        "\n",
        "**Question 1: Class Attendance using a List**<br>\n",
        "You are keeping track of student attendance using a list. Sometimes students may enter their names more than once.<br>\n",
        "Step 1: Create a list called attendance_list with the names:<br>\n",
        "[\"John\", \"Emma\", \"John\", \"Ava\", \"Sophia\", \"Emma\"]<br>\n",
        "Step 2: Print the list to see the attendance.<br>\n",
        "Step 3: Count how many names (including duplicates) are in the list and print the total number."
      ],
      "metadata": {
        "id": "Wvs438DCVhFy"
      }
    },
    {
      "cell_type": "code",
      "execution_count": 19,
      "metadata": {
        "colab": {
          "base_uri": "https://localhost:8080/"
        },
        "id": "Z2G0r1C0VXta",
        "outputId": "9e7af8d9-72e1-460f-d2ed-8d56cac0e1aa"
      },
      "outputs": [
        {
          "output_type": "stream",
          "name": "stdout",
          "text": [
            "Attendance List =  ['John', 'Emma', 'John', 'Ava', 'Sophia', 'Emma']\n",
            "Present Student =  6\n"
          ]
        }
      ],
      "source": [
        " attendance_list = [\"John\", \"Emma\", \"John\", \"Ava\", \"Sophia\", \"Emma\"]  #Step 1: Create a list\n",
        " print(\"Attendance List = \",attendance_list)            #Step 2: Print the list\n",
        " print(\"Present Student = \",len(attendance_list))       #Step 3: Count number of names with duplicates"
      ]
    },
    {
      "cell_type": "markdown",
      "source": [
        "**Question 2: Unique Attendance using a Set**<br>\n",
        "To find out how many unique students attended the class, use a set. A set automatically removes duplicates.<br>\n",
        "Step 1: Convert the attendance_list from Question 1 into a set.<br>\n",
        "Step 2: Print the set to see the unique student names.<br>\n",
        "Step 3: Count and print the total number of unique students.<br>\n"
      ],
      "metadata": {
        "id": "cP0aM9mFW3Ul"
      }
    },
    {
      "cell_type": "code",
      "source": [
        "attendence_set = set(attendance_list)  #Step 1: set() convert the attendance_list from Question 1 into a set.\n",
        "print(\"Attendance Set = \",attendence_set)                 #Step 2: Print the set to see the unique student names.\n",
        "print(\"Present Student = \",len(attendence_set))             #Step 3: len() Count the total number of unique students and print."
      ],
      "metadata": {
        "colab": {
          "base_uri": "https://localhost:8080/"
        },
        "id": "jK_y2aWgXGl9",
        "outputId": "8ce02429-04d4-485b-f70a-2534891c7f39"
      },
      "execution_count": 20,
      "outputs": [
        {
          "output_type": "stream",
          "name": "stdout",
          "text": [
            "Attendance Set =  {'Emma', 'Sophia', 'Ava', 'John'}\n",
            "Present Student =  4\n"
          ]
        }
      ]
    },
    {
      "cell_type": "markdown",
      "source": [
        "**Question 3: Storing Attendance Permanently with a Tuplet**<br>\n",
        "A tuple is used when you don’t want the list to change. Let’s store the attendance in a tuple.<br>\n",
        "Step 1: Create a tuple called attendance_tuple with these names:\n",
        "(\"John\", \"Emma\", \"Ava\", \"Sophia\")<br>\n",
        "Step 2: Print the tuple to display the names."
      ],
      "metadata": {
        "id": "sAX6E2WSX8Lj"
      }
    },
    {
      "cell_type": "code",
      "source": [
        "attendance_tuple = (\"John\", \"Emma\", \"Ava\", \"Sophia\")  #Step 1: Create a tuple\n",
        "print(\"Attendance Tuple \",attendance_tuple)           #Step 2: Print the tuple"
      ],
      "metadata": {
        "colab": {
          "base_uri": "https://localhost:8080/"
        },
        "id": "ce0py-kkYIsR",
        "outputId": "7e218f4e-b9e9-42f9-a8cf-6bc49e5d81cf"
      },
      "execution_count": 21,
      "outputs": [
        {
          "output_type": "stream",
          "name": "stdout",
          "text": [
            "Attendance Tuple  ('John', 'Emma', 'Ava', 'Sophia')\n"
          ]
        }
      ]
    },
    {
      "cell_type": "markdown",
      "source": [
        "**Question 4: Count Attendance using a Dictionary**<br>\n",
        "You want to count how many times each student attended the class.<br>\n",
        "Step 1: Using the attendance_list from Question 1, create a dictionary where each student's name is a key, and the number of times they attended is the value.<br>\n",
        "Step 2: Print the dictionary to see each student's attendance count."
      ],
      "metadata": {
        "id": "QUtrzYdFZkDj"
      }
    },
    {
      "cell_type": "code",
      "source": [
        "attendance_list = ['John', 'Emma', 'John', 'Ava', 'Sophia', 'Emma'] #create attendence list\n",
        "\n",
        "attendance_dict = {                   #create attendence dictionary\n",
        "    name: attendance_list.count(name) #write a name into key:count(value) where count() is to count the appearance of a name\n",
        "for name in attendance_list           #run loop for all items in list\n",
        "                   }\n",
        "\n",
        "print(\"Attendance of Each Student\",attendance_dict)                #print attendance_dictionary"
      ],
      "metadata": {
        "colab": {
          "base_uri": "https://localhost:8080/"
        },
        "id": "pRcxXXXyZzba",
        "outputId": "6686dbd7-0ce4-488d-8336-6093e6170f49"
      },
      "execution_count": 22,
      "outputs": [
        {
          "output_type": "stream",
          "name": "stdout",
          "text": [
            "Attendance of Each Student {'John': 2, 'Emma': 2, 'Ava': 1, 'Sophia': 1}\n"
          ]
        }
      ]
    }
  ]
}