{
  "nbformat": 4,
  "nbformat_minor": 0,
  "metadata": {
    "colab": {
      "provenance": [],
      "toc_visible": true,
      "authorship_tag": "ABX9TyO6ZWVDA6S8kQVAgoZ/H/RW",
      "include_colab_link": true
    },
    "kernelspec": {
      "name": "python3",
      "display_name": "Python 3"
    },
    "language_info": {
      "name": "python"
    }
  },
  "cells": [
    {
      "cell_type": "markdown",
      "metadata": {
        "id": "view-in-github",
        "colab_type": "text"
      },
      "source": [
        "<a href=\"https://colab.research.google.com/github/SobiaNoorAI/Data-Seekho-Data-Science-Mastery-Program/blob/main/Module%205%3A%20NLP/NLP_Basics.ipynb\" target=\"_parent\"><img src=\"https://colab.research.google.com/assets/colab-badge.svg\" alt=\"Open In Colab\"/></a>"
      ]
    },
    {
      "cell_type": "markdown",
      "source": [
        "# Tokenization"
      ],
      "metadata": {
        "id": "tXLAtacEHPAX"
      }
    },
    {
      "cell_type": "markdown",
      "source": [
        "splits the text into smaller units called tokens"
      ],
      "metadata": {
        "id": "SIFS8dy3Y-sa"
      }
    },
    {
      "cell_type": "code",
      "source": [
        "import nltk\n",
        "# model\n",
        "nltk.download('punkt_tab')\n",
        "# import word tokenizer\n",
        "from nltk.tokenize import word_tokenize\n",
        "\n",
        "#text\n",
        "text = \"This is my life. I am not waiting for you.\"\n",
        "# apply tokenizer on text\n",
        "tokens = word_tokenize(text)\n",
        "print(tokens)"
      ],
      "metadata": {
        "colab": {
          "base_uri": "https://localhost:8080/"
        },
        "id": "0nfzNhx7HSdZ",
        "outputId": "b6ace2db-4606-43c6-f12f-fabd0febfc3c"
      },
      "execution_count": 1,
      "outputs": [
        {
          "output_type": "stream",
          "name": "stderr",
          "text": [
            "[nltk_data] Downloading package punkt_tab to /root/nltk_data...\n",
            "[nltk_data]   Unzipping tokenizers/punkt_tab.zip.\n"
          ]
        },
        {
          "output_type": "stream",
          "name": "stdout",
          "text": [
            "['This', 'is', 'my', 'life', '.', 'I', 'am', 'not', 'waiting', 'for', 'you', '.']\n"
          ]
        }
      ]
    },
    {
      "cell_type": "markdown",
      "source": [
        "# Stop Words"
      ],
      "metadata": {
        "id": "dmvgJSKkGJ1b"
      }
    },
    {
      "cell_type": "markdown",
      "source": [
        "Words of sentences that are not necessary to understand the meaning of the sentence\n",
        "\n",
        "\n",
        "*   is, are, am, a, an, to, the etc\n",
        "\n"
      ],
      "metadata": {
        "id": "fS08WJMhZWh9"
      }
    },
    {
      "cell_type": "code",
      "source": [
        "nltk.download('punkt')\n",
        "nltk.download('wordnet')"
      ],
      "metadata": {
        "colab": {
          "base_uri": "https://localhost:8080/"
        },
        "id": "Orq89NqsZO0P",
        "outputId": "162b3c64-c091-4a0d-9a2b-f912fe44f270"
      },
      "execution_count": 2,
      "outputs": [
        {
          "output_type": "stream",
          "name": "stderr",
          "text": [
            "[nltk_data] Downloading package punkt to /root/nltk_data...\n",
            "[nltk_data]   Unzipping tokenizers/punkt.zip.\n",
            "[nltk_data] Downloading package wordnet to /root/nltk_data...\n"
          ]
        },
        {
          "output_type": "execute_result",
          "data": {
            "text/plain": [
              "True"
            ]
          },
          "metadata": {},
          "execution_count": 2
        }
      ]
    },
    {
      "cell_type": "markdown",
      "source": [
        "English Stop words"
      ],
      "metadata": {
        "id": "B8x8j3VQaCbn"
      }
    },
    {
      "cell_type": "code",
      "execution_count": 3,
      "metadata": {
        "colab": {
          "base_uri": "https://localhost:8080/"
        },
        "id": "XzZJLaw1DY-v",
        "outputId": "da4931f9-64f9-405c-bad5-1ed203ea4767"
      },
      "outputs": [
        {
          "output_type": "stream",
          "name": "stdout",
          "text": [
            "['a', 'about', 'above', 'after', 'again', 'against', 'ain', 'all', 'am', 'an', 'and', 'any', 'are', 'aren', \"aren't\", 'as', 'at', 'be', 'because', 'been', 'before', 'being', 'below', 'between', 'both', 'but', 'by', 'can', 'couldn', \"couldn't\", 'd', 'did', 'didn', \"didn't\", 'do', 'does', 'doesn', \"doesn't\", 'doing', 'don', \"don't\", 'down', 'during', 'each', 'few', 'for', 'from', 'further', 'had', 'hadn', \"hadn't\", 'has', 'hasn', \"hasn't\", 'have', 'haven', \"haven't\", 'having', 'he', \"he'd\", \"he'll\", 'her', 'here', 'hers', 'herself', \"he's\", 'him', 'himself', 'his', 'how', 'i', \"i'd\", 'if', \"i'll\", \"i'm\", 'in', 'into', 'is', 'isn', \"isn't\", 'it', \"it'd\", \"it'll\", \"it's\", 'its', 'itself', \"i've\", 'just', 'll', 'm', 'ma', 'me', 'mightn', \"mightn't\", 'more', 'most', 'mustn', \"mustn't\", 'my', 'myself', 'needn', \"needn't\", 'no', 'nor', 'not', 'now', 'o', 'of', 'off', 'on', 'once', 'only', 'or', 'other', 'our', 'ours', 'ourselves', 'out', 'over', 'own', 're', 's', 'same', 'shan', \"shan't\", 'she', \"she'd\", \"she'll\", \"she's\", 'should', 'shouldn', \"shouldn't\", \"should've\", 'so', 'some', 'such', 't', 'than', 'that', \"that'll\", 'the', 'their', 'theirs', 'them', 'themselves', 'then', 'there', 'these', 'they', \"they'd\", \"they'll\", \"they're\", \"they've\", 'this', 'those', 'through', 'to', 'too', 'under', 'until', 'up', 've', 'very', 'was', 'wasn', \"wasn't\", 'we', \"we'd\", \"we'll\", \"we're\", 'were', 'weren', \"weren't\", \"we've\", 'what', 'when', 'where', 'which', 'while', 'who', 'whom', 'why', 'will', 'with', 'won', \"won't\", 'wouldn', \"wouldn't\", 'y', 'you', \"you'd\", \"you'll\", 'your', \"you're\", 'yours', 'yourself', 'yourselves', \"you've\"]\n"
          ]
        },
        {
          "output_type": "stream",
          "name": "stderr",
          "text": [
            "[nltk_data] Downloading package stopwords to /root/nltk_data...\n",
            "[nltk_data]   Unzipping corpora/stopwords.zip.\n"
          ]
        }
      ],
      "source": [
        "nltk.download('stopwords')\n",
        "from nltk.corpus import stopwords\n",
        "stop_words = stopwords.words('english')\n",
        "print(stop_words)"
      ]
    },
    {
      "cell_type": "markdown",
      "source": [
        "Spanish Stop words"
      ],
      "metadata": {
        "id": "gEpWyoJGaHPz"
      }
    },
    {
      "cell_type": "code",
      "source": [
        "spain_stop_words = stopwords.words('spanish')\n",
        "print(spain_stop_words)"
      ],
      "metadata": {
        "colab": {
          "base_uri": "https://localhost:8080/"
        },
        "id": "RSHRMUa2F9f-",
        "outputId": "470f6972-3734-46e0-de42-a2d5a6f4de44"
      },
      "execution_count": 4,
      "outputs": [
        {
          "output_type": "stream",
          "name": "stdout",
          "text": [
            "['de', 'la', 'que', 'el', 'en', 'y', 'a', 'los', 'del', 'se', 'las', 'por', 'un', 'para', 'con', 'no', 'una', 'su', 'al', 'lo', 'como', 'más', 'pero', 'sus', 'le', 'ya', 'o', 'este', 'sí', 'porque', 'esta', 'entre', 'cuando', 'muy', 'sin', 'sobre', 'también', 'me', 'hasta', 'hay', 'donde', 'quien', 'desde', 'todo', 'nos', 'durante', 'todos', 'uno', 'les', 'ni', 'contra', 'otros', 'ese', 'eso', 'ante', 'ellos', 'e', 'esto', 'mí', 'antes', 'algunos', 'qué', 'unos', 'yo', 'otro', 'otras', 'otra', 'él', 'tanto', 'esa', 'estos', 'mucho', 'quienes', 'nada', 'muchos', 'cual', 'poco', 'ella', 'estar', 'estas', 'algunas', 'algo', 'nosotros', 'mi', 'mis', 'tú', 'te', 'ti', 'tu', 'tus', 'ellas', 'nosotras', 'vosotros', 'vosotras', 'os', 'mío', 'mía', 'míos', 'mías', 'tuyo', 'tuya', 'tuyos', 'tuyas', 'suyo', 'suya', 'suyos', 'suyas', 'nuestro', 'nuestra', 'nuestros', 'nuestras', 'vuestro', 'vuestra', 'vuestros', 'vuestras', 'esos', 'esas', 'estoy', 'estás', 'está', 'estamos', 'estáis', 'están', 'esté', 'estés', 'estemos', 'estéis', 'estén', 'estaré', 'estarás', 'estará', 'estaremos', 'estaréis', 'estarán', 'estaría', 'estarías', 'estaríamos', 'estaríais', 'estarían', 'estaba', 'estabas', 'estábamos', 'estabais', 'estaban', 'estuve', 'estuviste', 'estuvo', 'estuvimos', 'estuvisteis', 'estuvieron', 'estuviera', 'estuvieras', 'estuviéramos', 'estuvierais', 'estuvieran', 'estuviese', 'estuvieses', 'estuviésemos', 'estuvieseis', 'estuviesen', 'estando', 'estado', 'estada', 'estados', 'estadas', 'estad', 'he', 'has', 'ha', 'hemos', 'habéis', 'han', 'haya', 'hayas', 'hayamos', 'hayáis', 'hayan', 'habré', 'habrás', 'habrá', 'habremos', 'habréis', 'habrán', 'habría', 'habrías', 'habríamos', 'habríais', 'habrían', 'había', 'habías', 'habíamos', 'habíais', 'habían', 'hube', 'hubiste', 'hubo', 'hubimos', 'hubisteis', 'hubieron', 'hubiera', 'hubieras', 'hubiéramos', 'hubierais', 'hubieran', 'hubiese', 'hubieses', 'hubiésemos', 'hubieseis', 'hubiesen', 'habiendo', 'habido', 'habida', 'habidos', 'habidas', 'soy', 'eres', 'es', 'somos', 'sois', 'son', 'sea', 'seas', 'seamos', 'seáis', 'sean', 'seré', 'serás', 'será', 'seremos', 'seréis', 'serán', 'sería', 'serías', 'seríamos', 'seríais', 'serían', 'era', 'eras', 'éramos', 'erais', 'eran', 'fui', 'fuiste', 'fue', 'fuimos', 'fuisteis', 'fueron', 'fuera', 'fueras', 'fuéramos', 'fuerais', 'fueran', 'fuese', 'fueses', 'fuésemos', 'fueseis', 'fuesen', 'sintiendo', 'sentido', 'sentida', 'sentidos', 'sentidas', 'siente', 'sentid', 'tengo', 'tienes', 'tiene', 'tenemos', 'tenéis', 'tienen', 'tenga', 'tengas', 'tengamos', 'tengáis', 'tengan', 'tendré', 'tendrás', 'tendrá', 'tendremos', 'tendréis', 'tendrán', 'tendría', 'tendrías', 'tendríamos', 'tendríais', 'tendrían', 'tenía', 'tenías', 'teníamos', 'teníais', 'tenían', 'tuve', 'tuviste', 'tuvo', 'tuvimos', 'tuvisteis', 'tuvieron', 'tuviera', 'tuvieras', 'tuviéramos', 'tuvierais', 'tuvieran', 'tuviese', 'tuvieses', 'tuviésemos', 'tuvieseis', 'tuviesen', 'teniendo', 'tenido', 'tenida', 'tenidos', 'tenidas', 'tened']\n"
          ]
        }
      ]
    },
    {
      "cell_type": "markdown",
      "source": [
        "Remove stop words"
      ],
      "metadata": {
        "id": "WH0RlMnwW1K_"
      }
    },
    {
      "cell_type": "code",
      "source": [
        "stop_words = set(stopwords.words('english'))\n",
        "#text = \"This is a sample sentence demonstrating stopword removal.\"\n",
        "text = \"This is my life. I am not waiting for you.\"\n",
        "words = word_tokenize(text)\n",
        "filtered_words = [word for word in words if word.lower() not in stop_words]\n",
        "print(filtered_words)"
      ],
      "metadata": {
        "colab": {
          "base_uri": "https://localhost:8080/"
        },
        "id": "rhFeeY-UHGpT",
        "outputId": "60827d04-a76d-4212-b541-c669a8b14b38"
      },
      "execution_count": 5,
      "outputs": [
        {
          "output_type": "stream",
          "name": "stdout",
          "text": [
            "['life', '.', 'waiting', '.']\n"
          ]
        }
      ]
    },
    {
      "cell_type": "markdown",
      "source": [
        "Add or Remove Stop words"
      ],
      "metadata": {
        "id": "betNf9rgXD5B"
      }
    },
    {
      "cell_type": "code",
      "source": [
        "# remove necessary words from stop words set\n",
        "stop_words.discard('my')\n",
        "stop_words.discard('not')\n",
        "print(stop_words)"
      ],
      "metadata": {
        "colab": {
          "base_uri": "https://localhost:8080/"
        },
        "id": "M2z-oL1JWl-N",
        "outputId": "8e6f94e8-c7ec-4635-9c0c-9389afbe75c5"
      },
      "execution_count": 6,
      "outputs": [
        {
          "output_type": "stream",
          "name": "stdout",
          "text": [
            "{'s', \"doesn't\", 'his', 'needn', 'a', \"it'd\", 'your', 'have', 'only', \"couldn't\", 'he', 'don', 'against', \"we'll\", 'she', \"hasn't\", 'or', \"we've\", 'off', 'doing', 'i', 'having', 'nor', 'hers', 'over', \"isn't\", 'there', 'their', 'its', \"you're\", 'himself', 're', 'this', \"it'll\", 'ours', 'y', 'it', \"don't\", 't', 'up', 'mustn', 'yourselves', 'until', 'as', \"you've\", 'to', 'very', \"needn't\", 've', 'through', \"that'll\", \"should've\", 'why', \"he'll\", 'wouldn', 'same', 'hasn', \"she'd\", 'then', \"shan't\", \"we'd\", 'herself', 'o', 'above', 'few', 'her', 'most', 'because', 'out', 'wasn', 'further', 'by', 'been', 'theirs', \"you'll\", 'into', 'down', 'for', 'what', 'below', 'just', \"wouldn't\", 'am', 'more', 'ain', \"they'll\", 'ma', 'but', 'own', 'myself', 'itself', \"she'll\", 'was', \"hadn't\", 'be', 'when', \"didn't\", 'an', 'that', 'where', \"mightn't\", 'on', 'between', 'll', 'are', 'which', 'before', 'isn', 'can', 'the', 'those', 'is', \"i've\", \"he's\", 'had', 'aren', 'm', 'if', 'no', \"weren't\", \"they'd\", 'shouldn', 'haven', 'couldn', 'each', 'whom', 'd', 'while', \"we're\", \"aren't\", 'hadn', \"it's\", 'them', 'has', 'in', 'does', 'during', 'him', 'were', 'after', \"mustn't\", 'you', 'from', 'of', 'ourselves', 'here', \"haven't\", 'about', 'me', \"won't\", 'shan', 'other', \"shouldn't\", 'some', 'yours', 'being', 'now', 'they', \"i'd\", \"i'm\", 'again', 'than', 'too', 'any', 'these', \"they're\", 'under', 'will', 'mightn', 'who', 'how', \"wasn't\", 'both', \"he'd\", 'should', 'we', 'weren', 'do', 'such', 'with', 'doesn', 'our', 'all', 'and', 'didn', 'did', \"they've\", \"you'd\", 'so', 'themselves', 'once', 'yourself', 'at', 'won', \"she's\", \"i'll\"}\n"
          ]
        }
      ]
    },
    {
      "cell_type": "code",
      "source": [
        "filtered_words = [word for word in words if word.lower() not in stop_words]\n",
        "filtered_words"
      ],
      "metadata": {
        "colab": {
          "base_uri": "https://localhost:8080/"
        },
        "id": "dcraZh8eVowU",
        "outputId": "aa43361b-03d6-49c0-91e7-c416bd8e7d1f"
      },
      "execution_count": 7,
      "outputs": [
        {
          "output_type": "execute_result",
          "data": {
            "text/plain": [
              "['my', 'life', '.', 'not', 'waiting', '.']"
            ]
          },
          "metadata": {},
          "execution_count": 7
        }
      ]
    },
    {
      "cell_type": "markdown",
      "source": [
        "# Stemming"
      ],
      "metadata": {
        "id": "sdOVgnf2dx9_"
      }
    },
    {
      "cell_type": "markdown",
      "source": [
        "Converting words to their root word\n",
        "\n",
        "\n",
        "*   convert studying, student to stud\n",
        "\n",
        "It is not intelligent technique as it may lose the meaning of word\n",
        "\n"
      ],
      "metadata": {
        "id": "gfvHbxq6d2m1"
      }
    },
    {
      "cell_type": "code",
      "source": [
        "from nltk.stem import PorterStemmer\n",
        "stemmer = PorterStemmer()"
      ],
      "metadata": {
        "id": "BDkKbyNxmVgG"
      },
      "execution_count": null,
      "outputs": []
    },
    {
      "cell_type": "markdown",
      "source": [
        "Stem a Word"
      ],
      "metadata": {
        "id": "gG-havUrmWY7"
      }
    },
    {
      "cell_type": "code",
      "source": [
        "stemmer.stem('geese')"
      ],
      "metadata": {
        "colab": {
          "base_uri": "https://localhost:8080/",
          "height": 36
        },
        "id": "nDvfkwe_mgEl",
        "outputId": "e1356080-d3c0-4f2e-a059-afcd9212fb5a"
      },
      "execution_count": 29,
      "outputs": [
        {
          "output_type": "execute_result",
          "data": {
            "text/plain": [
              "'gees'"
            ],
            "application/vnd.google.colaboratory.intrinsic+json": {
              "type": "string"
            }
          },
          "metadata": {},
          "execution_count": 29
        }
      ]
    },
    {
      "cell_type": "markdown",
      "source": [
        "Stem Multiple Words"
      ],
      "metadata": {
        "id": "62taave_mwnd"
      }
    },
    {
      "cell_type": "code",
      "source": [
        "words = ['study', 'studying','students','history','finally' ,'feet','changer','kept']\n",
        "for word in words:\n",
        "    print(word+\"----> \"+stemmer.stem(word))"
      ],
      "metadata": {
        "colab": {
          "base_uri": "https://localhost:8080/"
        },
        "id": "C-0n-7_Hmz3U",
        "outputId": "e9b1b312-a5a1-48be-e304-d4041e3a5f89"
      },
      "execution_count": 30,
      "outputs": [
        {
          "output_type": "stream",
          "name": "stdout",
          "text": [
            "study----> studi\n",
            "studying----> studi\n",
            "students----> student\n",
            "history----> histori\n",
            "finally----> final\n",
            "feet----> feet\n",
            "changer----> changer\n",
            "kept----> kept\n"
          ]
        }
      ]
    },
    {
      "cell_type": "code",
      "source": [
        "\n",
        "#words = ['study', 'studying', 'students', 'student']\n",
        "#text = \"This is my life. I am not waiting for you.\"\n",
        "#words = word_tokenize(text)\n",
        "stemmed_words = [stemmer.stem(word) for word in filtered_words]\n",
        "print(stemmed_words)"
      ],
      "metadata": {
        "colab": {
          "base_uri": "https://localhost:8080/"
        },
        "id": "kcBu8KeFGYlg",
        "outputId": "bcf9775e-c871-46e6-d416-317a9c0ab04c"
      },
      "execution_count": 8,
      "outputs": [
        {
          "output_type": "stream",
          "name": "stdout",
          "text": [
            "['my', 'life', '.', 'not', 'wait', '.']\n"
          ]
        }
      ]
    },
    {
      "cell_type": "code",
      "source": [
        "from nltk.stem import PorterStemmer\n",
        "stemmer = PorterStemmer()\n",
        "words = ['study', 'studying','students', 'history','finally' ,'running','reported','easily','changer']\n",
        "#words = \"Many actors won awards, Meryl Streep has record of most nomimize.\"\n",
        "#words = word_tokenize(words)\n",
        "stemmed_words = [stemmer.stem(word) for word in words]\n",
        "#print(stemmed_words)\n",
        "for word in words:\n",
        "    print(word+\" ----> \"+stemmer.stem(word))"
      ],
      "metadata": {
        "colab": {
          "base_uri": "https://localhost:8080/"
        },
        "id": "oMgxZNMxMI1a",
        "outputId": "c19b6cbd-9f05-4999-ad2c-74c1d1e78fa5"
      },
      "execution_count": 19,
      "outputs": [
        {
          "output_type": "stream",
          "name": "stdout",
          "text": [
            "study ----> studi\n",
            "studying ----> studi\n",
            "students ----> student\n",
            "history ----> histori\n",
            "finally ----> final\n",
            "running ----> run\n",
            "reported ----> report\n",
            "easily ----> easili\n",
            "changer ----> changer\n"
          ]
        }
      ]
    },
    {
      "cell_type": "markdown",
      "source": [
        "# Lemmatization"
      ],
      "metadata": {
        "id": "DPtwxw8TJ2t6"
      }
    },
    {
      "cell_type": "markdown",
      "source": [
        "Converting words to their root word\n",
        "\n",
        "\n",
        "*   Convert studing, student to study\n",
        "\n",
        "\n",
        "It is an intelligent technique that does not lose the meaning of word"
      ],
      "metadata": {
        "id": "jP3EtXspJ5Bs"
      }
    },
    {
      "cell_type": "code",
      "source": [
        "from nltk.stem import WordNetLemmatizer\n",
        "lemmatizer = WordNetLemmatizer()"
      ],
      "metadata": {
        "id": "w7MojcAOkwgS"
      },
      "execution_count": null,
      "outputs": []
    },
    {
      "cell_type": "markdown",
      "source": [
        "Lemmatize a Word"
      ],
      "metadata": {
        "id": "BZpGhGOUlWwG"
      }
    },
    {
      "cell_type": "code",
      "source": [
        "lemmatizer.lemmatize('geese')"
      ],
      "metadata": {
        "colab": {
          "base_uri": "https://localhost:8080/",
          "height": 36
        },
        "id": "aGj8jJNFkxTW",
        "outputId": "1f31f2e6-fd23-45d7-8d29-87d98159ba87"
      },
      "execution_count": 23,
      "outputs": [
        {
          "output_type": "execute_result",
          "data": {
            "text/plain": [
              "'goose'"
            ],
            "application/vnd.google.colaboratory.intrinsic+json": {
              "type": "string"
            }
          },
          "metadata": {},
          "execution_count": 23
        }
      ]
    },
    {
      "cell_type": "markdown",
      "source": [
        "Lemmatize Multiple Words"
      ],
      "metadata": {
        "id": "DmdZ32Vvldd_"
      }
    },
    {
      "cell_type": "code",
      "source": [
        "words = ['study', 'studying','students','history','finally' ,'feet','changer','kept']\n",
        "for word in words:\n",
        "    print(word+\"---->\"+lemmatizer.lemmatize(word))"
      ],
      "metadata": {
        "colab": {
          "base_uri": "https://localhost:8080/"
        },
        "id": "kH3SvyJTKezt",
        "outputId": "24e71fde-058a-4d4c-dbbe-d080c23af0ff"
      },
      "execution_count": 24,
      "outputs": [
        {
          "output_type": "stream",
          "name": "stdout",
          "text": [
            "study---->study\n",
            "studying---->studying\n",
            "students---->student\n",
            "history---->history\n",
            "finally---->finally\n",
            "feet---->foot\n",
            "changer---->changer\n",
            "kept---->kept\n"
          ]
        }
      ]
    },
    {
      "cell_type": "markdown",
      "source": [
        "Lemmatize Text"
      ],
      "metadata": {
        "id": "DBVRntEalkPb"
      }
    },
    {
      "cell_type": "code",
      "source": [
        "text = \"Many actors won awards but Meryl Streep has record of most nominations.\"\n",
        "words = word_tokenize(text)\n",
        "lemmed_words = [lemmatizer.lemmatize(word) for word in words]\n",
        "lemmed_words"
      ],
      "metadata": {
        "colab": {
          "base_uri": "https://localhost:8080/"
        },
        "id": "-THNYO_MlFCV",
        "outputId": "ac22a850-78d9-424f-e366-46729e5a6c34"
      },
      "execution_count": 27,
      "outputs": [
        {
          "output_type": "execute_result",
          "data": {
            "text/plain": [
              "['Many',\n",
              " 'actor',\n",
              " 'won',\n",
              " 'award',\n",
              " 'but',\n",
              " 'Meryl',\n",
              " 'Streep',\n",
              " 'ha',\n",
              " 'record',\n",
              " 'of',\n",
              " 'most',\n",
              " 'nomination',\n",
              " '.']"
            ]
          },
          "metadata": {},
          "execution_count": 27
        }
      ]
    }
  ]
}