{
  "nbformat": 4,
  "nbformat_minor": 0,
  "metadata": {
    "colab": {
      "provenance": [],
      "toc_visible": true,
      "authorship_tag": "ABX9TyOi5PR08rcPNcPvO0GQ/eRU",
      "include_colab_link": true
    },
    "kernelspec": {
      "name": "python3",
      "display_name": "Python 3"
    },
    "language_info": {
      "name": "python"
    }
  },
  "cells": [
    {
      "cell_type": "markdown",
      "metadata": {
        "id": "view-in-github",
        "colab_type": "text"
      },
      "source": [
        "<a href=\"https://colab.research.google.com/github/SobiaNoorAI/Data-Seekho-Data-Science-Mastery-Program/blob/main/Module%205%3A%20NLP/NLP_Basics.ipynb\" target=\"_parent\"><img src=\"https://colab.research.google.com/assets/colab-badge.svg\" alt=\"Open In Colab\"/></a>"
      ]
    },
    {
      "cell_type": "markdown",
      "source": [
        "# Tokenization"
      ],
      "metadata": {
        "id": "tXLAtacEHPAX"
      }
    },
    {
      "cell_type": "markdown",
      "source": [
        "splits the text into smaller units called tokens"
      ],
      "metadata": {
        "id": "SIFS8dy3Y-sa"
      }
    },
    {
      "cell_type": "code",
      "source": [
        "import nltk\n",
        "# model\n",
        "nltk.download('punkt_tab')\n",
        "# import word tokenizer\n",
        "from nltk.tokenize import word_tokenize\n",
        "\n",
        "#text\n",
        "text = \"This is my life. I am not waiting for you.\"\n",
        "# apply tokenizer on text\n",
        "tokens = word_tokenize(text)\n",
        "print(tokens)"
      ],
      "metadata": {
        "colab": {
          "base_uri": "https://localhost:8080/"
        },
        "id": "0nfzNhx7HSdZ",
        "outputId": "cade48aa-76cb-4fff-ab08-61b9970dec0e"
      },
      "execution_count": 23,
      "outputs": [
        {
          "output_type": "stream",
          "name": "stdout",
          "text": [
            "['This', 'is', 'my', 'life', '.', 'I', 'am', 'not', 'waiting', 'for', 'you', '.']\n"
          ]
        },
        {
          "output_type": "stream",
          "name": "stderr",
          "text": [
            "[nltk_data] Downloading package punkt_tab to /root/nltk_data...\n",
            "[nltk_data]   Package punkt_tab is already up-to-date!\n"
          ]
        }
      ]
    },
    {
      "cell_type": "markdown",
      "source": [
        "## Sentence Tokenizer"
      ],
      "metadata": {
        "id": "aiC3qZD2nBGu"
      }
    },
    {
      "cell_type": "markdown",
      "source": [
        "Split text into sentence"
      ],
      "metadata": {
        "id": "Pqg8efY5nQdE"
      }
    },
    {
      "source": [
        "from nltk.tokenize import sent_tokenize\n",
        "\n",
        "#text\n",
        "text = \"This is my life. I am not waiting for you.\"\n",
        "# apply tokenizer on text\n",
        "tokens = sent_tokenize(text) # Changed from SentenceTokenizer(text) to sent_tokenize(text)\n",
        "print(tokens)"
      ],
      "cell_type": "code",
      "metadata": {
        "colab": {
          "base_uri": "https://localhost:8080/"
        },
        "id": "bQSeTzvdmoYo",
        "outputId": "24d4c311-0640-4c4d-eeac-947903b29e40"
      },
      "execution_count": 50,
      "outputs": [
        {
          "output_type": "stream",
          "name": "stdout",
          "text": [
            "['This is my life.', 'I am not waiting for you.']\n"
          ]
        }
      ]
    },
    {
      "cell_type": "markdown",
      "source": [
        "## Character Tokenizer"
      ],
      "metadata": {
        "id": "7PSvdkYPnGv1"
      }
    },
    {
      "cell_type": "markdown",
      "source": [
        "Split Text into characters"
      ],
      "metadata": {
        "id": "IIYGibYWnL-k"
      }
    },
    {
      "source": [
        "from nltk.tokenize.regexp import RegexpTokenizer\n",
        "\n",
        "#text\n",
        "text = \"This is my life. I am not waiting for you.\"\n",
        "# apply tokenizer on text\n",
        "tokenizer = RegexpTokenizer(r'.')  # Tokenize by character\n",
        "tokens = tokenizer.tokenize(text)\n",
        "print(tokens)"
      ],
      "cell_type": "code",
      "metadata": {
        "colab": {
          "base_uri": "https://localhost:8080/"
        },
        "id": "u_wSMX5lm7Fx",
        "outputId": "b50c33eb-031d-467b-8162-3c1f1dc91cec"
      },
      "execution_count": 52,
      "outputs": [
        {
          "output_type": "stream",
          "name": "stdout",
          "text": [
            "['T', 'h', 'i', 's', ' ', 'i', 's', ' ', 'm', 'y', ' ', 'l', 'i', 'f', 'e', '.', ' ', 'I', ' ', 'a', 'm', ' ', 'n', 'o', 't', ' ', 'w', 'a', 'i', 't', 'i', 'n', 'g', ' ', 'f', 'o', 'r', ' ', 'y', 'o', 'u', '.']\n"
          ]
        }
      ]
    },
    {
      "cell_type": "markdown",
      "source": [
        "# Stop Words"
      ],
      "metadata": {
        "id": "dmvgJSKkGJ1b"
      }
    },
    {
      "cell_type": "markdown",
      "source": [
        "Words of sentences that are not necessary to understand the meaning of the sentence\n",
        "\n",
        "\n",
        "*   is, are, am, a, an, to, the etc\n",
        "\n"
      ],
      "metadata": {
        "id": "fS08WJMhZWh9"
      }
    },
    {
      "cell_type": "code",
      "source": [
        "nltk.download('punkt')\n",
        "nltk.download('wordnet')"
      ],
      "metadata": {
        "colab": {
          "base_uri": "https://localhost:8080/"
        },
        "id": "Orq89NqsZO0P",
        "outputId": "79b24ae0-02f5-4693-c276-2604cff0a679"
      },
      "execution_count": 24,
      "outputs": [
        {
          "output_type": "stream",
          "name": "stderr",
          "text": [
            "[nltk_data] Downloading package punkt to /root/nltk_data...\n",
            "[nltk_data]   Package punkt is already up-to-date!\n",
            "[nltk_data] Downloading package wordnet to /root/nltk_data...\n",
            "[nltk_data]   Package wordnet is already up-to-date!\n"
          ]
        },
        {
          "output_type": "execute_result",
          "data": {
            "text/plain": [
              "True"
            ]
          },
          "metadata": {},
          "execution_count": 24
        }
      ]
    },
    {
      "cell_type": "markdown",
      "source": [
        "## English Stop words"
      ],
      "metadata": {
        "id": "B8x8j3VQaCbn"
      }
    },
    {
      "cell_type": "code",
      "execution_count": 25,
      "metadata": {
        "colab": {
          "base_uri": "https://localhost:8080/"
        },
        "id": "XzZJLaw1DY-v",
        "outputId": "2dcc2140-5f5d-48f2-d305-e23a743f32e6"
      },
      "outputs": [
        {
          "output_type": "stream",
          "name": "stdout",
          "text": [
            "['a', 'about', 'above', 'after', 'again', 'against', 'ain', 'all', 'am', 'an', 'and', 'any', 'are', 'aren', \"aren't\", 'as', 'at', 'be', 'because', 'been', 'before', 'being', 'below', 'between', 'both', 'but', 'by', 'can', 'couldn', \"couldn't\", 'd', 'did', 'didn', \"didn't\", 'do', 'does', 'doesn', \"doesn't\", 'doing', 'don', \"don't\", 'down', 'during', 'each', 'few', 'for', 'from', 'further', 'had', 'hadn', \"hadn't\", 'has', 'hasn', \"hasn't\", 'have', 'haven', \"haven't\", 'having', 'he', \"he'd\", \"he'll\", 'her', 'here', 'hers', 'herself', \"he's\", 'him', 'himself', 'his', 'how', 'i', \"i'd\", 'if', \"i'll\", \"i'm\", 'in', 'into', 'is', 'isn', \"isn't\", 'it', \"it'd\", \"it'll\", \"it's\", 'its', 'itself', \"i've\", 'just', 'll', 'm', 'ma', 'me', 'mightn', \"mightn't\", 'more', 'most', 'mustn', \"mustn't\", 'my', 'myself', 'needn', \"needn't\", 'no', 'nor', 'not', 'now', 'o', 'of', 'off', 'on', 'once', 'only', 'or', 'other', 'our', 'ours', 'ourselves', 'out', 'over', 'own', 're', 's', 'same', 'shan', \"shan't\", 'she', \"she'd\", \"she'll\", \"she's\", 'should', 'shouldn', \"shouldn't\", \"should've\", 'so', 'some', 'such', 't', 'than', 'that', \"that'll\", 'the', 'their', 'theirs', 'them', 'themselves', 'then', 'there', 'these', 'they', \"they'd\", \"they'll\", \"they're\", \"they've\", 'this', 'those', 'through', 'to', 'too', 'under', 'until', 'up', 've', 'very', 'was', 'wasn', \"wasn't\", 'we', \"we'd\", \"we'll\", \"we're\", 'were', 'weren', \"weren't\", \"we've\", 'what', 'when', 'where', 'which', 'while', 'who', 'whom', 'why', 'will', 'with', 'won', \"won't\", 'wouldn', \"wouldn't\", 'y', 'you', \"you'd\", \"you'll\", 'your', \"you're\", 'yours', 'yourself', 'yourselves', \"you've\"]\n"
          ]
        },
        {
          "output_type": "stream",
          "name": "stderr",
          "text": [
            "[nltk_data] Downloading package stopwords to /root/nltk_data...\n",
            "[nltk_data]   Package stopwords is already up-to-date!\n"
          ]
        }
      ],
      "source": [
        "nltk.download('stopwords')\n",
        "from nltk.corpus import stopwords\n",
        "stop_words = stopwords.words('english')\n",
        "print(stop_words)"
      ]
    },
    {
      "cell_type": "markdown",
      "source": [
        "## Spanish Stop words"
      ],
      "metadata": {
        "id": "gEpWyoJGaHPz"
      }
    },
    {
      "cell_type": "code",
      "source": [
        "spain_stop_words = stopwords.words('spanish')\n",
        "print(spain_stop_words)"
      ],
      "metadata": {
        "colab": {
          "base_uri": "https://localhost:8080/"
        },
        "id": "RSHRMUa2F9f-",
        "outputId": "5f403e35-b987-4006-ba6e-8f5b4fbd525f"
      },
      "execution_count": 26,
      "outputs": [
        {
          "output_type": "stream",
          "name": "stdout",
          "text": [
            "['de', 'la', 'que', 'el', 'en', 'y', 'a', 'los', 'del', 'se', 'las', 'por', 'un', 'para', 'con', 'no', 'una', 'su', 'al', 'lo', 'como', 'más', 'pero', 'sus', 'le', 'ya', 'o', 'este', 'sí', 'porque', 'esta', 'entre', 'cuando', 'muy', 'sin', 'sobre', 'también', 'me', 'hasta', 'hay', 'donde', 'quien', 'desde', 'todo', 'nos', 'durante', 'todos', 'uno', 'les', 'ni', 'contra', 'otros', 'ese', 'eso', 'ante', 'ellos', 'e', 'esto', 'mí', 'antes', 'algunos', 'qué', 'unos', 'yo', 'otro', 'otras', 'otra', 'él', 'tanto', 'esa', 'estos', 'mucho', 'quienes', 'nada', 'muchos', 'cual', 'poco', 'ella', 'estar', 'estas', 'algunas', 'algo', 'nosotros', 'mi', 'mis', 'tú', 'te', 'ti', 'tu', 'tus', 'ellas', 'nosotras', 'vosotros', 'vosotras', 'os', 'mío', 'mía', 'míos', 'mías', 'tuyo', 'tuya', 'tuyos', 'tuyas', 'suyo', 'suya', 'suyos', 'suyas', 'nuestro', 'nuestra', 'nuestros', 'nuestras', 'vuestro', 'vuestra', 'vuestros', 'vuestras', 'esos', 'esas', 'estoy', 'estás', 'está', 'estamos', 'estáis', 'están', 'esté', 'estés', 'estemos', 'estéis', 'estén', 'estaré', 'estarás', 'estará', 'estaremos', 'estaréis', 'estarán', 'estaría', 'estarías', 'estaríamos', 'estaríais', 'estarían', 'estaba', 'estabas', 'estábamos', 'estabais', 'estaban', 'estuve', 'estuviste', 'estuvo', 'estuvimos', 'estuvisteis', 'estuvieron', 'estuviera', 'estuvieras', 'estuviéramos', 'estuvierais', 'estuvieran', 'estuviese', 'estuvieses', 'estuviésemos', 'estuvieseis', 'estuviesen', 'estando', 'estado', 'estada', 'estados', 'estadas', 'estad', 'he', 'has', 'ha', 'hemos', 'habéis', 'han', 'haya', 'hayas', 'hayamos', 'hayáis', 'hayan', 'habré', 'habrás', 'habrá', 'habremos', 'habréis', 'habrán', 'habría', 'habrías', 'habríamos', 'habríais', 'habrían', 'había', 'habías', 'habíamos', 'habíais', 'habían', 'hube', 'hubiste', 'hubo', 'hubimos', 'hubisteis', 'hubieron', 'hubiera', 'hubieras', 'hubiéramos', 'hubierais', 'hubieran', 'hubiese', 'hubieses', 'hubiésemos', 'hubieseis', 'hubiesen', 'habiendo', 'habido', 'habida', 'habidos', 'habidas', 'soy', 'eres', 'es', 'somos', 'sois', 'son', 'sea', 'seas', 'seamos', 'seáis', 'sean', 'seré', 'serás', 'será', 'seremos', 'seréis', 'serán', 'sería', 'serías', 'seríamos', 'seríais', 'serían', 'era', 'eras', 'éramos', 'erais', 'eran', 'fui', 'fuiste', 'fue', 'fuimos', 'fuisteis', 'fueron', 'fuera', 'fueras', 'fuéramos', 'fuerais', 'fueran', 'fuese', 'fueses', 'fuésemos', 'fueseis', 'fuesen', 'sintiendo', 'sentido', 'sentida', 'sentidos', 'sentidas', 'siente', 'sentid', 'tengo', 'tienes', 'tiene', 'tenemos', 'tenéis', 'tienen', 'tenga', 'tengas', 'tengamos', 'tengáis', 'tengan', 'tendré', 'tendrás', 'tendrá', 'tendremos', 'tendréis', 'tendrán', 'tendría', 'tendrías', 'tendríamos', 'tendríais', 'tendrían', 'tenía', 'tenías', 'teníamos', 'teníais', 'tenían', 'tuve', 'tuviste', 'tuvo', 'tuvimos', 'tuvisteis', 'tuvieron', 'tuviera', 'tuvieras', 'tuviéramos', 'tuvierais', 'tuvieran', 'tuviese', 'tuvieses', 'tuviésemos', 'tuvieseis', 'tuviesen', 'teniendo', 'tenido', 'tenida', 'tenidos', 'tenidas', 'tened']\n"
          ]
        }
      ]
    },
    {
      "cell_type": "markdown",
      "source": [
        "## Remove stop words"
      ],
      "metadata": {
        "id": "WH0RlMnwW1K_"
      }
    },
    {
      "cell_type": "code",
      "source": [
        "# Set of Stop words\n",
        "stop_words = set(stopwords.words('english'))\n",
        "# Text\n",
        "text = \"This is my life. I am not waiting for you.\"\n",
        "words = word_tokenize(text)\n",
        "filtered_words = [word for word in words if word.lower() not in stop_words]\n",
        "print(filtered_words)"
      ],
      "metadata": {
        "colab": {
          "base_uri": "https://localhost:8080/"
        },
        "id": "rhFeeY-UHGpT",
        "outputId": "fc6db55c-15fc-4bb4-c0be-7070284c5a13"
      },
      "execution_count": 27,
      "outputs": [
        {
          "output_type": "stream",
          "name": "stdout",
          "text": [
            "['life', '.', 'waiting', '.']\n"
          ]
        }
      ]
    },
    {
      "cell_type": "markdown",
      "source": [
        "## Add or Remove Stop words from Stop Word Dictionary"
      ],
      "metadata": {
        "id": "betNf9rgXD5B"
      }
    },
    {
      "cell_type": "code",
      "source": [
        "# remove necessary words from stop words set\n",
        "stop_words.discard('my')\n",
        "stop_words.discard('not')\n",
        "print(stop_words)"
      ],
      "metadata": {
        "colab": {
          "base_uri": "https://localhost:8080/"
        },
        "id": "M2z-oL1JWl-N",
        "outputId": "e1e40860-f04a-4b44-fc97-16bfd06d8d76"
      },
      "execution_count": 53,
      "outputs": [
        {
          "output_type": "stream",
          "name": "stdout",
          "text": [
            "{'then', 'under', 've', 'because', 'now', 'that', 'mustn', 'own', 'further', 'which', 'but', 'o', 'hadn', \"hasn't\", 'while', 'aren', \"couldn't\", \"i'll\", 'this', 'being', 'haven', 'hers', 'few', \"it'd\", 'or', 'ourselves', 'our', \"should've\", 'we', \"weren't\", 'he', \"we'll\", 'where', \"they'll\", 'i', \"it's\", 'the', \"that'll\", 'than', \"you'll\", 'did', 'don', 'his', 'couldn', 'mightn', 'some', 'its', 'isn', \"he's\", \"shan't\", \"i've\", \"wouldn't\", 'd', 'more', \"she'd\", 'in', 'them', \"i'm\", 'it', \"didn't\", 'most', 'itself', 'again', 'if', 'other', \"they've\", 'didn', \"you'd\", 'y', 'has', 'by', 'have', 'they', 'between', 'myself', 'does', \"doesn't\", \"i'd\", 'here', 'into', 'themselves', 'be', 'any', 'those', 'when', 'during', 'yours', 'doesn', 'just', 'had', 'shan', 'on', \"aren't\", 'you', 'weren', \"you're\", 'why', 'after', 'about', 'until', 'ma', 'out', 'so', 'ain', 'for', 'an', 'who', 'your', 'once', 'same', 'himself', 'each', 'below', 'both', \"you've\", 'all', 'hasn', 'him', 't', 'only', \"mightn't\", 'against', 'ours', 'do', 'is', 'over', 'too', 'very', 'am', 'wouldn', 'can', \"it'll\", \"they're\", \"she'll\", 'before', 'shouldn', 'from', 'needn', 'doing', 'as', 'should', 'their', 'these', 'yourself', 'were', \"we've\", 'been', \"haven't\", 're', \"hadn't\", 'through', 'her', \"isn't\", 'yourselves', 'such', 'to', 'at', 'what', \"we're\", 'herself', 'will', 'with', \"she's\", 'nor', 'how', \"don't\", 'm', 'off', 'wasn', 'having', 'a', 'down', 'll', \"shouldn't\", 'of', 'was', 'and', \"he'd\", \"needn't\", \"he'll\", 'she', \"mustn't\", 'no', 'up', 's', \"they'd\", 'above', 'there', 'won', \"won't\", 'whom', 'me', 'are', \"wasn't\", \"we'd\", 'theirs'}\n"
          ]
        }
      ]
    },
    {
      "cell_type": "code",
      "source": [
        "filtered_words = [word for word in words if word.lower() not in stop_words]\n",
        "filtered_words"
      ],
      "metadata": {
        "colab": {
          "base_uri": "https://localhost:8080/"
        },
        "id": "dcraZh8eVowU",
        "outputId": "e79fd33c-e6d2-4fa9-ade7-3a00a1217a69"
      },
      "execution_count": 8,
      "outputs": [
        {
          "output_type": "execute_result",
          "data": {
            "text/plain": [
              "['my', 'life', '.', 'not', 'waiting', '.']"
            ]
          },
          "metadata": {},
          "execution_count": 8
        }
      ]
    },
    {
      "cell_type": "markdown",
      "source": [
        "# Stemming"
      ],
      "metadata": {
        "id": "sdOVgnf2dx9_"
      }
    },
    {
      "cell_type": "markdown",
      "source": [
        "Converting words to their root word\n",
        "\n",
        "\n",
        "*   convert studying, student to stud\n",
        "\n",
        "It is not intelligent technique as it may lose the meaning of word\n",
        "\n"
      ],
      "metadata": {
        "id": "gfvHbxq6d2m1"
      }
    },
    {
      "cell_type": "code",
      "source": [
        "from nltk.stem import PorterStemmer\n",
        "stemmer = PorterStemmer()"
      ],
      "metadata": {
        "id": "BDkKbyNxmVgG"
      },
      "execution_count": 29,
      "outputs": []
    },
    {
      "cell_type": "markdown",
      "source": [
        "## Stem a Word"
      ],
      "metadata": {
        "id": "gG-havUrmWY7"
      }
    },
    {
      "cell_type": "code",
      "source": [
        "stemmer.stem('geese')"
      ],
      "metadata": {
        "colab": {
          "base_uri": "https://localhost:8080/",
          "height": 36
        },
        "id": "nDvfkwe_mgEl",
        "outputId": "95df4f75-ea7d-44dc-8c46-68d9ea9bdb59"
      },
      "execution_count": 30,
      "outputs": [
        {
          "output_type": "execute_result",
          "data": {
            "text/plain": [
              "'gees'"
            ],
            "application/vnd.google.colaboratory.intrinsic+json": {
              "type": "string"
            }
          },
          "metadata": {},
          "execution_count": 30
        }
      ]
    },
    {
      "cell_type": "markdown",
      "source": [
        "## Stem Multiple Words"
      ],
      "metadata": {
        "id": "62taave_mwnd"
      }
    },
    {
      "cell_type": "code",
      "source": [
        "words = ['study', 'studying','students', 'history','finally' ,'running','reported','easily','crying']\n",
        "for word in words:\n",
        "    print(word+\"----> \"+stemmer.stem(word))"
      ],
      "metadata": {
        "colab": {
          "base_uri": "https://localhost:8080/"
        },
        "id": "C-0n-7_Hmz3U",
        "outputId": "8983351a-9cb0-4d21-c4cd-55dbd90a436a"
      },
      "execution_count": 56,
      "outputs": [
        {
          "output_type": "stream",
          "name": "stdout",
          "text": [
            "study----> studi\n",
            "studying----> studi\n",
            "students----> student\n",
            "history----> histori\n",
            "finally----> final\n",
            "running----> run\n",
            "reported----> report\n",
            "easily----> easili\n",
            "crying----> cri\n"
          ]
        }
      ]
    },
    {
      "cell_type": "markdown",
      "source": [
        "# Lemmatization"
      ],
      "metadata": {
        "id": "DPtwxw8TJ2t6"
      }
    },
    {
      "cell_type": "markdown",
      "source": [
        "Converting words to their root word\n",
        "\n",
        "\n",
        "*   Convert studing, student to study\n",
        "\n",
        "\n",
        "It is an intelligent technique that does not lose the meaning of word"
      ],
      "metadata": {
        "id": "jP3EtXspJ5Bs"
      }
    },
    {
      "cell_type": "code",
      "source": [
        "from nltk.stem import WordNetLemmatizer\n",
        "lemmatizer = WordNetLemmatizer()"
      ],
      "metadata": {
        "id": "w7MojcAOkwgS"
      },
      "execution_count": 14,
      "outputs": []
    },
    {
      "cell_type": "markdown",
      "source": [
        "## Lemmatize a Word"
      ],
      "metadata": {
        "id": "BZpGhGOUlWwG"
      }
    },
    {
      "cell_type": "code",
      "source": [
        "lemmatizer.lemmatize('geese')"
      ],
      "metadata": {
        "colab": {
          "base_uri": "https://localhost:8080/",
          "height": 36
        },
        "id": "aGj8jJNFkxTW",
        "outputId": "3e476a12-4c39-4d4b-a26b-c00c6061f0b0"
      },
      "execution_count": 15,
      "outputs": [
        {
          "output_type": "execute_result",
          "data": {
            "text/plain": [
              "'goose'"
            ],
            "application/vnd.google.colaboratory.intrinsic+json": {
              "type": "string"
            }
          },
          "metadata": {},
          "execution_count": 15
        }
      ]
    },
    {
      "cell_type": "markdown",
      "source": [
        "## Lemmatize Multiple Words"
      ],
      "metadata": {
        "id": "DmdZ32Vvldd_"
      }
    },
    {
      "cell_type": "code",
      "source": [
        "words = ['study', 'studying','students','history','finally' ,'feet','changer','cries']\n",
        "for word in words:\n",
        "    print(word+\"---->\"+lemmatizer.lemmatize(word))"
      ],
      "metadata": {
        "colab": {
          "base_uri": "https://localhost:8080/"
        },
        "id": "kH3SvyJTKezt",
        "outputId": "dfb0bac6-a907-4f71-d8b4-dad6b366ca1a"
      },
      "execution_count": 55,
      "outputs": [
        {
          "output_type": "stream",
          "name": "stdout",
          "text": [
            "study---->study\n",
            "studying---->studying\n",
            "students---->student\n",
            "history---->history\n",
            "finally---->finally\n",
            "feet---->foot\n",
            "changer---->changer\n",
            "cries---->cry\n"
          ]
        }
      ]
    },
    {
      "cell_type": "markdown",
      "source": [
        "## Lemmatize Text"
      ],
      "metadata": {
        "id": "DBVRntEalkPb"
      }
    },
    {
      "cell_type": "code",
      "source": [
        "text = \"Many actors won awards but Meryl Streep has record of most nominations.\"\n",
        "words = word_tokenize(text)\n",
        "lemmed_words = [lemmatizer.lemmatize(word) for word in words]\n",
        "lemmed_words"
      ],
      "metadata": {
        "colab": {
          "base_uri": "https://localhost:8080/"
        },
        "id": "-THNYO_MlFCV",
        "outputId": "c7205056-3ba0-4339-d4b2-50f39ab9920e"
      },
      "execution_count": 57,
      "outputs": [
        {
          "output_type": "execute_result",
          "data": {
            "text/plain": [
              "['Many',\n",
              " 'actor',\n",
              " 'won',\n",
              " 'award',\n",
              " 'but',\n",
              " 'Meryl',\n",
              " 'Streep',\n",
              " 'ha',\n",
              " 'record',\n",
              " 'of',\n",
              " 'most',\n",
              " 'nomination',\n",
              " '.']"
            ]
          },
          "metadata": {},
          "execution_count": 57
        }
      ]
    },
    {
      "cell_type": "markdown",
      "source": [
        "# Bag of Words (BoW)"
      ],
      "metadata": {
        "id": "fD509vDUtXX1"
      }
    },
    {
      "cell_type": "markdown",
      "source": [
        "A text modeling technique that counts the frequency of each word in a document\n",
        "\n",
        "* It follow no order of words like things in a bag"
      ],
      "metadata": {
        "id": "k-X0ehuuth_Z"
      }
    },
    {
      "cell_type": "code",
      "source": [
        "from sklearn.feature_extraction.text import CountVectorizer\n",
        "\n",
        "# CountVectorizer object\n",
        "vectorizer = CountVectorizer()\n",
        "\n",
        "text = {\"This, this is my life I'm looking for you\",\n",
        "\"Searching love in your eyes\",\n",
        "\"This, this my life I'm chasing a dream\",\n",
        "\"That fade away in the nigh\"}\n",
        "\n",
        "# Fit and transform the text into matrix\n",
        "X = vectorizer.fit_transform(text)\n",
        "\n",
        "# BoW representation as a dense array\n",
        "print(X.toarray())\n",
        "\n",
        "# Feature names (words)\n",
        "print(vectorizer.get_feature_names_out())"
      ],
      "metadata": {
        "colab": {
          "base_uri": "https://localhost:8080/"
        },
        "id": "PmutMCw-yahL",
        "outputId": "601b510e-18df-44ea-ca18-b1f3e6ecb6c4"
      },
      "execution_count": 36,
      "outputs": [
        {
          "output_type": "stream",
          "name": "stdout",
          "text": [
            "[[0 0 0 1 0 0 1 0 0 0 1 0 0 1 0 0 0 0 1]\n",
            " [1 0 0 0 1 0 1 0 0 0 0 0 1 0 1 1 0 0 0]\n",
            " [0 0 0 0 0 1 0 1 1 1 0 1 0 0 0 0 2 1 0]\n",
            " [0 1 1 0 0 0 0 0 1 0 0 1 0 0 0 0 2 0 0]]\n",
            "['away' 'chasing' 'dream' 'eyes' 'fade' 'for' 'in' 'is' 'life' 'looking'\n",
            " 'love' 'my' 'nigh' 'searching' 'that' 'the' 'this' 'you' 'your']\n"
          ]
        }
      ]
    },
    {
      "cell_type": "code",
      "source": [
        "import pandas as pd\n",
        "\n",
        "# Convert the sparse matrix to a Pandas DataFrame\n",
        "df = pd.DataFrame(\n",
        "    X.toarray(),\n",
        "    index=list(text),  # Use sentences as row indices\n",
        "    columns=vectorizer.get_feature_names_out()  # Use feature names as columns\n",
        ")\n",
        "\n",
        "# Print the DataFrame\n",
        "df"
      ],
      "metadata": {
        "id": "W1GJJvIAtHf5",
        "outputId": "7a804c33-a388-44d3-f6b1-61040f1b4ca8",
        "colab": {
          "base_uri": "https://localhost:8080/",
          "height": 403
        }
      },
      "execution_count": 37,
      "outputs": [
        {
          "output_type": "execute_result",
          "data": {
            "text/plain": [
              "                                           away  chasing  dream  eyes  fade  \\\n",
              "Searching love in your eyes                   0        0      0     1     0   \n",
              "That fade away in the nigh                    1        0      0     0     1   \n",
              "This, this is my life I'm looking for you     0        0      0     0     0   \n",
              "This, this my life I'm chasing a dream        0        1      1     0     0   \n",
              "\n",
              "                                           for  in  is  life  looking  love  \\\n",
              "Searching love in your eyes                  0   1   0     0        0     1   \n",
              "That fade away in the nigh                   0   1   0     0        0     0   \n",
              "This, this is my life I'm looking for you    1   0   1     1        1     0   \n",
              "This, this my life I'm chasing a dream       0   0   0     1        0     0   \n",
              "\n",
              "                                           my  nigh  searching  that  the  \\\n",
              "Searching love in your eyes                 0     0          1     0    0   \n",
              "That fade away in the nigh                  0     1          0     1    1   \n",
              "This, this is my life I'm looking for you   1     0          0     0    0   \n",
              "This, this my life I'm chasing a dream      1     0          0     0    0   \n",
              "\n",
              "                                           this  you  your  \n",
              "Searching love in your eyes                   0    0     1  \n",
              "That fade away in the nigh                    0    0     0  \n",
              "This, this is my life I'm looking for you     2    1     0  \n",
              "This, this my life I'm chasing a dream        2    0     0  "
            ],
            "text/html": [
              "\n",
              "  <div id=\"df-f9e9c821-ab28-4c5e-a735-8ab707609214\" class=\"colab-df-container\">\n",
              "    <div>\n",
              "<style scoped>\n",
              "    .dataframe tbody tr th:only-of-type {\n",
              "        vertical-align: middle;\n",
              "    }\n",
              "\n",
              "    .dataframe tbody tr th {\n",
              "        vertical-align: top;\n",
              "    }\n",
              "\n",
              "    .dataframe thead th {\n",
              "        text-align: right;\n",
              "    }\n",
              "</style>\n",
              "<table border=\"1\" class=\"dataframe\">\n",
              "  <thead>\n",
              "    <tr style=\"text-align: right;\">\n",
              "      <th></th>\n",
              "      <th>away</th>\n",
              "      <th>chasing</th>\n",
              "      <th>dream</th>\n",
              "      <th>eyes</th>\n",
              "      <th>fade</th>\n",
              "      <th>for</th>\n",
              "      <th>in</th>\n",
              "      <th>is</th>\n",
              "      <th>life</th>\n",
              "      <th>looking</th>\n",
              "      <th>love</th>\n",
              "      <th>my</th>\n",
              "      <th>nigh</th>\n",
              "      <th>searching</th>\n",
              "      <th>that</th>\n",
              "      <th>the</th>\n",
              "      <th>this</th>\n",
              "      <th>you</th>\n",
              "      <th>your</th>\n",
              "    </tr>\n",
              "  </thead>\n",
              "  <tbody>\n",
              "    <tr>\n",
              "      <th>Searching love in your eyes</th>\n",
              "      <td>0</td>\n",
              "      <td>0</td>\n",
              "      <td>0</td>\n",
              "      <td>1</td>\n",
              "      <td>0</td>\n",
              "      <td>0</td>\n",
              "      <td>1</td>\n",
              "      <td>0</td>\n",
              "      <td>0</td>\n",
              "      <td>0</td>\n",
              "      <td>1</td>\n",
              "      <td>0</td>\n",
              "      <td>0</td>\n",
              "      <td>1</td>\n",
              "      <td>0</td>\n",
              "      <td>0</td>\n",
              "      <td>0</td>\n",
              "      <td>0</td>\n",
              "      <td>1</td>\n",
              "    </tr>\n",
              "    <tr>\n",
              "      <th>That fade away in the nigh</th>\n",
              "      <td>1</td>\n",
              "      <td>0</td>\n",
              "      <td>0</td>\n",
              "      <td>0</td>\n",
              "      <td>1</td>\n",
              "      <td>0</td>\n",
              "      <td>1</td>\n",
              "      <td>0</td>\n",
              "      <td>0</td>\n",
              "      <td>0</td>\n",
              "      <td>0</td>\n",
              "      <td>0</td>\n",
              "      <td>1</td>\n",
              "      <td>0</td>\n",
              "      <td>1</td>\n",
              "      <td>1</td>\n",
              "      <td>0</td>\n",
              "      <td>0</td>\n",
              "      <td>0</td>\n",
              "    </tr>\n",
              "    <tr>\n",
              "      <th>This, this is my life I'm looking for you</th>\n",
              "      <td>0</td>\n",
              "      <td>0</td>\n",
              "      <td>0</td>\n",
              "      <td>0</td>\n",
              "      <td>0</td>\n",
              "      <td>1</td>\n",
              "      <td>0</td>\n",
              "      <td>1</td>\n",
              "      <td>1</td>\n",
              "      <td>1</td>\n",
              "      <td>0</td>\n",
              "      <td>1</td>\n",
              "      <td>0</td>\n",
              "      <td>0</td>\n",
              "      <td>0</td>\n",
              "      <td>0</td>\n",
              "      <td>2</td>\n",
              "      <td>1</td>\n",
              "      <td>0</td>\n",
              "    </tr>\n",
              "    <tr>\n",
              "      <th>This, this my life I'm chasing a dream</th>\n",
              "      <td>0</td>\n",
              "      <td>1</td>\n",
              "      <td>1</td>\n",
              "      <td>0</td>\n",
              "      <td>0</td>\n",
              "      <td>0</td>\n",
              "      <td>0</td>\n",
              "      <td>0</td>\n",
              "      <td>1</td>\n",
              "      <td>0</td>\n",
              "      <td>0</td>\n",
              "      <td>1</td>\n",
              "      <td>0</td>\n",
              "      <td>0</td>\n",
              "      <td>0</td>\n",
              "      <td>0</td>\n",
              "      <td>2</td>\n",
              "      <td>0</td>\n",
              "      <td>0</td>\n",
              "    </tr>\n",
              "  </tbody>\n",
              "</table>\n",
              "</div>\n",
              "    <div class=\"colab-df-buttons\">\n",
              "\n",
              "  <div class=\"colab-df-container\">\n",
              "    <button class=\"colab-df-convert\" onclick=\"convertToInteractive('df-f9e9c821-ab28-4c5e-a735-8ab707609214')\"\n",
              "            title=\"Convert this dataframe to an interactive table.\"\n",
              "            style=\"display:none;\">\n",
              "\n",
              "  <svg xmlns=\"http://www.w3.org/2000/svg\" height=\"24px\" viewBox=\"0 -960 960 960\">\n",
              "    <path d=\"M120-120v-720h720v720H120Zm60-500h600v-160H180v160Zm220 220h160v-160H400v160Zm0 220h160v-160H400v160ZM180-400h160v-160H180v160Zm440 0h160v-160H620v160ZM180-180h160v-160H180v160Zm440 0h160v-160H620v160Z\"/>\n",
              "  </svg>\n",
              "    </button>\n",
              "\n",
              "  <style>\n",
              "    .colab-df-container {\n",
              "      display:flex;\n",
              "      gap: 12px;\n",
              "    }\n",
              "\n",
              "    .colab-df-convert {\n",
              "      background-color: #E8F0FE;\n",
              "      border: none;\n",
              "      border-radius: 50%;\n",
              "      cursor: pointer;\n",
              "      display: none;\n",
              "      fill: #1967D2;\n",
              "      height: 32px;\n",
              "      padding: 0 0 0 0;\n",
              "      width: 32px;\n",
              "    }\n",
              "\n",
              "    .colab-df-convert:hover {\n",
              "      background-color: #E2EBFA;\n",
              "      box-shadow: 0px 1px 2px rgba(60, 64, 67, 0.3), 0px 1px 3px 1px rgba(60, 64, 67, 0.15);\n",
              "      fill: #174EA6;\n",
              "    }\n",
              "\n",
              "    .colab-df-buttons div {\n",
              "      margin-bottom: 4px;\n",
              "    }\n",
              "\n",
              "    [theme=dark] .colab-df-convert {\n",
              "      background-color: #3B4455;\n",
              "      fill: #D2E3FC;\n",
              "    }\n",
              "\n",
              "    [theme=dark] .colab-df-convert:hover {\n",
              "      background-color: #434B5C;\n",
              "      box-shadow: 0px 1px 3px 1px rgba(0, 0, 0, 0.15);\n",
              "      filter: drop-shadow(0px 1px 2px rgba(0, 0, 0, 0.3));\n",
              "      fill: #FFFFFF;\n",
              "    }\n",
              "  </style>\n",
              "\n",
              "    <script>\n",
              "      const buttonEl =\n",
              "        document.querySelector('#df-f9e9c821-ab28-4c5e-a735-8ab707609214 button.colab-df-convert');\n",
              "      buttonEl.style.display =\n",
              "        google.colab.kernel.accessAllowed ? 'block' : 'none';\n",
              "\n",
              "      async function convertToInteractive(key) {\n",
              "        const element = document.querySelector('#df-f9e9c821-ab28-4c5e-a735-8ab707609214');\n",
              "        const dataTable =\n",
              "          await google.colab.kernel.invokeFunction('convertToInteractive',\n",
              "                                                    [key], {});\n",
              "        if (!dataTable) return;\n",
              "\n",
              "        const docLinkHtml = 'Like what you see? Visit the ' +\n",
              "          '<a target=\"_blank\" href=https://colab.research.google.com/notebooks/data_table.ipynb>data table notebook</a>'\n",
              "          + ' to learn more about interactive tables.';\n",
              "        element.innerHTML = '';\n",
              "        dataTable['output_type'] = 'display_data';\n",
              "        await google.colab.output.renderOutput(dataTable, element);\n",
              "        const docLink = document.createElement('div');\n",
              "        docLink.innerHTML = docLinkHtml;\n",
              "        element.appendChild(docLink);\n",
              "      }\n",
              "    </script>\n",
              "  </div>\n",
              "\n",
              "\n",
              "    <div id=\"df-4f93c7e3-e4f2-42d9-8610-daaaba50d883\">\n",
              "      <button class=\"colab-df-quickchart\" onclick=\"quickchart('df-4f93c7e3-e4f2-42d9-8610-daaaba50d883')\"\n",
              "                title=\"Suggest charts\"\n",
              "                style=\"display:none;\">\n",
              "\n",
              "<svg xmlns=\"http://www.w3.org/2000/svg\" height=\"24px\"viewBox=\"0 0 24 24\"\n",
              "     width=\"24px\">\n",
              "    <g>\n",
              "        <path d=\"M19 3H5c-1.1 0-2 .9-2 2v14c0 1.1.9 2 2 2h14c1.1 0 2-.9 2-2V5c0-1.1-.9-2-2-2zM9 17H7v-7h2v7zm4 0h-2V7h2v10zm4 0h-2v-4h2v4z\"/>\n",
              "    </g>\n",
              "</svg>\n",
              "      </button>\n",
              "\n",
              "<style>\n",
              "  .colab-df-quickchart {\n",
              "      --bg-color: #E8F0FE;\n",
              "      --fill-color: #1967D2;\n",
              "      --hover-bg-color: #E2EBFA;\n",
              "      --hover-fill-color: #174EA6;\n",
              "      --disabled-fill-color: #AAA;\n",
              "      --disabled-bg-color: #DDD;\n",
              "  }\n",
              "\n",
              "  [theme=dark] .colab-df-quickchart {\n",
              "      --bg-color: #3B4455;\n",
              "      --fill-color: #D2E3FC;\n",
              "      --hover-bg-color: #434B5C;\n",
              "      --hover-fill-color: #FFFFFF;\n",
              "      --disabled-bg-color: #3B4455;\n",
              "      --disabled-fill-color: #666;\n",
              "  }\n",
              "\n",
              "  .colab-df-quickchart {\n",
              "    background-color: var(--bg-color);\n",
              "    border: none;\n",
              "    border-radius: 50%;\n",
              "    cursor: pointer;\n",
              "    display: none;\n",
              "    fill: var(--fill-color);\n",
              "    height: 32px;\n",
              "    padding: 0;\n",
              "    width: 32px;\n",
              "  }\n",
              "\n",
              "  .colab-df-quickchart:hover {\n",
              "    background-color: var(--hover-bg-color);\n",
              "    box-shadow: 0 1px 2px rgba(60, 64, 67, 0.3), 0 1px 3px 1px rgba(60, 64, 67, 0.15);\n",
              "    fill: var(--button-hover-fill-color);\n",
              "  }\n",
              "\n",
              "  .colab-df-quickchart-complete:disabled,\n",
              "  .colab-df-quickchart-complete:disabled:hover {\n",
              "    background-color: var(--disabled-bg-color);\n",
              "    fill: var(--disabled-fill-color);\n",
              "    box-shadow: none;\n",
              "  }\n",
              "\n",
              "  .colab-df-spinner {\n",
              "    border: 2px solid var(--fill-color);\n",
              "    border-color: transparent;\n",
              "    border-bottom-color: var(--fill-color);\n",
              "    animation:\n",
              "      spin 1s steps(1) infinite;\n",
              "  }\n",
              "\n",
              "  @keyframes spin {\n",
              "    0% {\n",
              "      border-color: transparent;\n",
              "      border-bottom-color: var(--fill-color);\n",
              "      border-left-color: var(--fill-color);\n",
              "    }\n",
              "    20% {\n",
              "      border-color: transparent;\n",
              "      border-left-color: var(--fill-color);\n",
              "      border-top-color: var(--fill-color);\n",
              "    }\n",
              "    30% {\n",
              "      border-color: transparent;\n",
              "      border-left-color: var(--fill-color);\n",
              "      border-top-color: var(--fill-color);\n",
              "      border-right-color: var(--fill-color);\n",
              "    }\n",
              "    40% {\n",
              "      border-color: transparent;\n",
              "      border-right-color: var(--fill-color);\n",
              "      border-top-color: var(--fill-color);\n",
              "    }\n",
              "    60% {\n",
              "      border-color: transparent;\n",
              "      border-right-color: var(--fill-color);\n",
              "    }\n",
              "    80% {\n",
              "      border-color: transparent;\n",
              "      border-right-color: var(--fill-color);\n",
              "      border-bottom-color: var(--fill-color);\n",
              "    }\n",
              "    90% {\n",
              "      border-color: transparent;\n",
              "      border-bottom-color: var(--fill-color);\n",
              "    }\n",
              "  }\n",
              "</style>\n",
              "\n",
              "      <script>\n",
              "        async function quickchart(key) {\n",
              "          const quickchartButtonEl =\n",
              "            document.querySelector('#' + key + ' button');\n",
              "          quickchartButtonEl.disabled = true;  // To prevent multiple clicks.\n",
              "          quickchartButtonEl.classList.add('colab-df-spinner');\n",
              "          try {\n",
              "            const charts = await google.colab.kernel.invokeFunction(\n",
              "                'suggestCharts', [key], {});\n",
              "          } catch (error) {\n",
              "            console.error('Error during call to suggestCharts:', error);\n",
              "          }\n",
              "          quickchartButtonEl.classList.remove('colab-df-spinner');\n",
              "          quickchartButtonEl.classList.add('colab-df-quickchart-complete');\n",
              "        }\n",
              "        (() => {\n",
              "          let quickchartButtonEl =\n",
              "            document.querySelector('#df-4f93c7e3-e4f2-42d9-8610-daaaba50d883 button');\n",
              "          quickchartButtonEl.style.display =\n",
              "            google.colab.kernel.accessAllowed ? 'block' : 'none';\n",
              "        })();\n",
              "      </script>\n",
              "    </div>\n",
              "\n",
              "  <div id=\"id_7f4b1d55-3f7a-4743-89c3-939e14b43bbc\">\n",
              "    <style>\n",
              "      .colab-df-generate {\n",
              "        background-color: #E8F0FE;\n",
              "        border: none;\n",
              "        border-radius: 50%;\n",
              "        cursor: pointer;\n",
              "        display: none;\n",
              "        fill: #1967D2;\n",
              "        height: 32px;\n",
              "        padding: 0 0 0 0;\n",
              "        width: 32px;\n",
              "      }\n",
              "\n",
              "      .colab-df-generate:hover {\n",
              "        background-color: #E2EBFA;\n",
              "        box-shadow: 0px 1px 2px rgba(60, 64, 67, 0.3), 0px 1px 3px 1px rgba(60, 64, 67, 0.15);\n",
              "        fill: #174EA6;\n",
              "      }\n",
              "\n",
              "      [theme=dark] .colab-df-generate {\n",
              "        background-color: #3B4455;\n",
              "        fill: #D2E3FC;\n",
              "      }\n",
              "\n",
              "      [theme=dark] .colab-df-generate:hover {\n",
              "        background-color: #434B5C;\n",
              "        box-shadow: 0px 1px 3px 1px rgba(0, 0, 0, 0.15);\n",
              "        filter: drop-shadow(0px 1px 2px rgba(0, 0, 0, 0.3));\n",
              "        fill: #FFFFFF;\n",
              "      }\n",
              "    </style>\n",
              "    <button class=\"colab-df-generate\" onclick=\"generateWithVariable('df')\"\n",
              "            title=\"Generate code using this dataframe.\"\n",
              "            style=\"display:none;\">\n",
              "\n",
              "  <svg xmlns=\"http://www.w3.org/2000/svg\" height=\"24px\"viewBox=\"0 0 24 24\"\n",
              "       width=\"24px\">\n",
              "    <path d=\"M7,19H8.4L18.45,9,17,7.55,7,17.6ZM5,21V16.75L18.45,3.32a2,2,0,0,1,2.83,0l1.4,1.43a1.91,1.91,0,0,1,.58,1.4,1.91,1.91,0,0,1-.58,1.4L9.25,21ZM18.45,9,17,7.55Zm-12,3A5.31,5.31,0,0,0,4.9,8.1,5.31,5.31,0,0,0,1,6.5,5.31,5.31,0,0,0,4.9,4.9,5.31,5.31,0,0,0,6.5,1,5.31,5.31,0,0,0,8.1,4.9,5.31,5.31,0,0,0,12,6.5,5.46,5.46,0,0,0,6.5,12Z\"/>\n",
              "  </svg>\n",
              "    </button>\n",
              "    <script>\n",
              "      (() => {\n",
              "      const buttonEl =\n",
              "        document.querySelector('#id_7f4b1d55-3f7a-4743-89c3-939e14b43bbc button.colab-df-generate');\n",
              "      buttonEl.style.display =\n",
              "        google.colab.kernel.accessAllowed ? 'block' : 'none';\n",
              "\n",
              "      buttonEl.onclick = () => {\n",
              "        google.colab.notebook.generateWithVariable('df');\n",
              "      }\n",
              "      })();\n",
              "    </script>\n",
              "  </div>\n",
              "\n",
              "    </div>\n",
              "  </div>\n"
            ],
            "application/vnd.google.colaboratory.intrinsic+json": {
              "type": "dataframe",
              "variable_name": "df",
              "summary": "{\n  \"name\": \"df\",\n  \"rows\": 4,\n  \"fields\": [\n    {\n      \"column\": \"away\",\n      \"properties\": {\n        \"dtype\": \"number\",\n        \"std\": 0,\n        \"min\": 0,\n        \"max\": 1,\n        \"num_unique_values\": 2,\n        \"samples\": [\n          1,\n          0\n        ],\n        \"semantic_type\": \"\",\n        \"description\": \"\"\n      }\n    },\n    {\n      \"column\": \"chasing\",\n      \"properties\": {\n        \"dtype\": \"number\",\n        \"std\": 0,\n        \"min\": 0,\n        \"max\": 1,\n        \"num_unique_values\": 2,\n        \"samples\": [\n          1,\n          0\n        ],\n        \"semantic_type\": \"\",\n        \"description\": \"\"\n      }\n    },\n    {\n      \"column\": \"dream\",\n      \"properties\": {\n        \"dtype\": \"number\",\n        \"std\": 0,\n        \"min\": 0,\n        \"max\": 1,\n        \"num_unique_values\": 2,\n        \"samples\": [\n          1,\n          0\n        ],\n        \"semantic_type\": \"\",\n        \"description\": \"\"\n      }\n    },\n    {\n      \"column\": \"eyes\",\n      \"properties\": {\n        \"dtype\": \"number\",\n        \"std\": 0,\n        \"min\": 0,\n        \"max\": 1,\n        \"num_unique_values\": 2,\n        \"samples\": [\n          0,\n          1\n        ],\n        \"semantic_type\": \"\",\n        \"description\": \"\"\n      }\n    },\n    {\n      \"column\": \"fade\",\n      \"properties\": {\n        \"dtype\": \"number\",\n        \"std\": 0,\n        \"min\": 0,\n        \"max\": 1,\n        \"num_unique_values\": 2,\n        \"samples\": [\n          1,\n          0\n        ],\n        \"semantic_type\": \"\",\n        \"description\": \"\"\n      }\n    },\n    {\n      \"column\": \"for\",\n      \"properties\": {\n        \"dtype\": \"number\",\n        \"std\": 0,\n        \"min\": 0,\n        \"max\": 1,\n        \"num_unique_values\": 2,\n        \"samples\": [\n          1,\n          0\n        ],\n        \"semantic_type\": \"\",\n        \"description\": \"\"\n      }\n    },\n    {\n      \"column\": \"in\",\n      \"properties\": {\n        \"dtype\": \"number\",\n        \"std\": 0,\n        \"min\": 0,\n        \"max\": 1,\n        \"num_unique_values\": 2,\n        \"samples\": [\n          0,\n          1\n        ],\n        \"semantic_type\": \"\",\n        \"description\": \"\"\n      }\n    },\n    {\n      \"column\": \"is\",\n      \"properties\": {\n        \"dtype\": \"number\",\n        \"std\": 0,\n        \"min\": 0,\n        \"max\": 1,\n        \"num_unique_values\": 2,\n        \"samples\": [\n          1,\n          0\n        ],\n        \"semantic_type\": \"\",\n        \"description\": \"\"\n      }\n    },\n    {\n      \"column\": \"life\",\n      \"properties\": {\n        \"dtype\": \"number\",\n        \"std\": 0,\n        \"min\": 0,\n        \"max\": 1,\n        \"num_unique_values\": 2,\n        \"samples\": [\n          1,\n          0\n        ],\n        \"semantic_type\": \"\",\n        \"description\": \"\"\n      }\n    },\n    {\n      \"column\": \"looking\",\n      \"properties\": {\n        \"dtype\": \"number\",\n        \"std\": 0,\n        \"min\": 0,\n        \"max\": 1,\n        \"num_unique_values\": 2,\n        \"samples\": [\n          1,\n          0\n        ],\n        \"semantic_type\": \"\",\n        \"description\": \"\"\n      }\n    },\n    {\n      \"column\": \"love\",\n      \"properties\": {\n        \"dtype\": \"number\",\n        \"std\": 0,\n        \"min\": 0,\n        \"max\": 1,\n        \"num_unique_values\": 2,\n        \"samples\": [\n          0,\n          1\n        ],\n        \"semantic_type\": \"\",\n        \"description\": \"\"\n      }\n    },\n    {\n      \"column\": \"my\",\n      \"properties\": {\n        \"dtype\": \"number\",\n        \"std\": 0,\n        \"min\": 0,\n        \"max\": 1,\n        \"num_unique_values\": 2,\n        \"samples\": [\n          1,\n          0\n        ],\n        \"semantic_type\": \"\",\n        \"description\": \"\"\n      }\n    },\n    {\n      \"column\": \"nigh\",\n      \"properties\": {\n        \"dtype\": \"number\",\n        \"std\": 0,\n        \"min\": 0,\n        \"max\": 1,\n        \"num_unique_values\": 2,\n        \"samples\": [\n          1,\n          0\n        ],\n        \"semantic_type\": \"\",\n        \"description\": \"\"\n      }\n    },\n    {\n      \"column\": \"searching\",\n      \"properties\": {\n        \"dtype\": \"number\",\n        \"std\": 0,\n        \"min\": 0,\n        \"max\": 1,\n        \"num_unique_values\": 2,\n        \"samples\": [\n          0,\n          1\n        ],\n        \"semantic_type\": \"\",\n        \"description\": \"\"\n      }\n    },\n    {\n      \"column\": \"that\",\n      \"properties\": {\n        \"dtype\": \"number\",\n        \"std\": 0,\n        \"min\": 0,\n        \"max\": 1,\n        \"num_unique_values\": 2,\n        \"samples\": [\n          1,\n          0\n        ],\n        \"semantic_type\": \"\",\n        \"description\": \"\"\n      }\n    },\n    {\n      \"column\": \"the\",\n      \"properties\": {\n        \"dtype\": \"number\",\n        \"std\": 0,\n        \"min\": 0,\n        \"max\": 1,\n        \"num_unique_values\": 2,\n        \"samples\": [\n          1,\n          0\n        ],\n        \"semantic_type\": \"\",\n        \"description\": \"\"\n      }\n    },\n    {\n      \"column\": \"this\",\n      \"properties\": {\n        \"dtype\": \"number\",\n        \"std\": 1,\n        \"min\": 0,\n        \"max\": 2,\n        \"num_unique_values\": 2,\n        \"samples\": [\n          2,\n          0\n        ],\n        \"semantic_type\": \"\",\n        \"description\": \"\"\n      }\n    },\n    {\n      \"column\": \"you\",\n      \"properties\": {\n        \"dtype\": \"number\",\n        \"std\": 0,\n        \"min\": 0,\n        \"max\": 1,\n        \"num_unique_values\": 2,\n        \"samples\": [\n          1,\n          0\n        ],\n        \"semantic_type\": \"\",\n        \"description\": \"\"\n      }\n    },\n    {\n      \"column\": \"your\",\n      \"properties\": {\n        \"dtype\": \"number\",\n        \"std\": 0,\n        \"min\": 0,\n        \"max\": 1,\n        \"num_unique_values\": 2,\n        \"samples\": [\n          0,\n          1\n        ],\n        \"semantic_type\": \"\",\n        \"description\": \"\"\n      }\n    }\n  ]\n}"
            }
          },
          "metadata": {},
          "execution_count": 37
        }
      ]
    },
    {
      "cell_type": "markdown",
      "source": [
        "## Size & Frequency of BoW"
      ],
      "metadata": {
        "id": "ixO3WNVaohW_"
      }
    },
    {
      "cell_type": "code",
      "source": [
        "# Get the vocabulary and counts\n",
        "vocabulary = vectorizer.get_feature_names_out()\n",
        "counts = X.toarray().sum(axis=0)  # Sum counts across all documents\n",
        "\n",
        "# Print the vocabulary with total counts\n",
        "for word, count in zip(vocabulary, counts):\n",
        "    print(f\"{word}  :  {count}\")\n",
        "\n",
        "print(f'Size of vocabulary: {len(vocabulary)} \\nTotal Frequency of Vocabulary: ',sum(counts))"
      ],
      "metadata": {
        "colab": {
          "base_uri": "https://localhost:8080/"
        },
        "id": "GVUMOct1gbLE",
        "outputId": "a997bd51-1be3-4a85-947f-1e72e06f2ddf"
      },
      "execution_count": 38,
      "outputs": [
        {
          "output_type": "stream",
          "name": "stdout",
          "text": [
            "away  :  1\n",
            "chasing  :  1\n",
            "dream  :  1\n",
            "eyes  :  1\n",
            "fade  :  1\n",
            "for  :  1\n",
            "in  :  2\n",
            "is  :  1\n",
            "life  :  2\n",
            "looking  :  1\n",
            "love  :  1\n",
            "my  :  2\n",
            "nigh  :  1\n",
            "searching  :  1\n",
            "that  :  1\n",
            "the  :  1\n",
            "this  :  4\n",
            "you  :  1\n",
            "your  :  1\n",
            "Size of vocabulary: 19 \n",
            "Total Frequency of Vocabulary:  25\n"
          ]
        }
      ]
    },
    {
      "cell_type": "markdown",
      "source": [
        "# TF-IDF (Term Frequency-Inverse Document Frequency)"
      ],
      "metadata": {
        "id": "kw59vWRDKf1w"
      }
    },
    {
      "cell_type": "markdown",
      "source": [
        "This method measures the importance of each word in a document. Unlike BoW, TF-IDF gives more weight to unique words."
      ],
      "metadata": {
        "id": "NWTMLhK6KjEC"
      }
    },
    {
      "cell_type": "code",
      "source": [
        "from sklearn.feature_extraction.text import TfidfVectorizer\n",
        "\n",
        "# Vectorizer Object\n",
        "vectorizer = TfidfVectorizer()\n",
        "\n",
        "text = {\"This, this is my life I'm looking for you\",\n",
        "\"Searching love in your eyes\",\n",
        "\"This, this my life I'm chasing a dream\",\n",
        "\"That fade away in the nigh\"}\n",
        "\n",
        "# Fit and Transform the Text into matrix\n",
        "X = vectorizer.fit_transform(text)\n",
        "\n",
        "# Td-idf representaion as a dense array\n",
        "print(X.toarray())\n",
        "\n",
        "# Feature names (words)\n",
        "print(vectorizer.get_feature_names_out())\n"
      ],
      "metadata": {
        "colab": {
          "base_uri": "https://localhost:8080/"
        },
        "id": "pkKPFolQLHqN",
        "outputId": "4257edef-8cbf-4295-e174-57c9ed268ac1"
      },
      "execution_count": 39,
      "outputs": [
        {
          "output_type": "stream",
          "name": "stdout",
          "text": [
            "[[0.         0.         0.         0.46516193 0.         0.\n",
            "  0.36673901 0.         0.         0.         0.46516193 0.\n",
            "  0.         0.46516193 0.         0.         0.         0.\n",
            "  0.46516193]\n",
            " [0.42176478 0.         0.         0.         0.42176478 0.\n",
            "  0.3325242  0.         0.         0.         0.         0.\n",
            "  0.42176478 0.         0.42176478 0.42176478 0.         0.\n",
            "  0.        ]\n",
            " [0.         0.         0.         0.         0.         0.35968533\n",
            "  0.         0.35968533 0.28358005 0.35968533 0.         0.28358005\n",
            "  0.         0.         0.         0.         0.56716009 0.35968533\n",
            "  0.        ]\n",
            " [0.         0.41777218 0.41777218 0.         0.         0.\n",
            "  0.         0.         0.32937638 0.         0.         0.32937638\n",
            "  0.         0.         0.         0.         0.65875277 0.\n",
            "  0.        ]]\n",
            "['away' 'chasing' 'dream' 'eyes' 'fade' 'for' 'in' 'is' 'life' 'looking'\n",
            " 'love' 'my' 'nigh' 'searching' 'that' 'the' 'this' 'you' 'your']\n"
          ]
        }
      ]
    },
    {
      "cell_type": "code",
      "source": [
        "import pandas as pd\n",
        "\n",
        "# Convert the sparse matrix to a Pandas DataFrame\n",
        "df = pd.DataFrame(\n",
        "    X.toarray(),\n",
        "    index=list(text),  # Use sentences as row indices\n",
        "    columns=vectorizer.get_feature_names_out()  # Use feature names as columns\n",
        ")\n",
        "\n",
        "# Print the DataFrame\n",
        "df"
      ],
      "metadata": {
        "colab": {
          "base_uri": "https://localhost:8080/",
          "height": 403
        },
        "id": "VTQgcrxDTNUX",
        "outputId": "88188dc1-93ba-407d-f0e2-17163da21589"
      },
      "execution_count": 40,
      "outputs": [
        {
          "output_type": "execute_result",
          "data": {
            "text/plain": [
              "                                               away   chasing     dream  \\\n",
              "Searching love in your eyes                0.000000  0.000000  0.000000   \n",
              "That fade away in the nigh                 0.421765  0.000000  0.000000   \n",
              "This, this is my life I'm looking for you  0.000000  0.000000  0.000000   \n",
              "This, this my life I'm chasing a dream     0.000000  0.417772  0.417772   \n",
              "\n",
              "                                               eyes      fade       for  \\\n",
              "Searching love in your eyes                0.465162  0.000000  0.000000   \n",
              "That fade away in the nigh                 0.000000  0.421765  0.000000   \n",
              "This, this is my life I'm looking for you  0.000000  0.000000  0.359685   \n",
              "This, this my life I'm chasing a dream     0.000000  0.000000  0.000000   \n",
              "\n",
              "                                                 in        is      life  \\\n",
              "Searching love in your eyes                0.366739  0.000000  0.000000   \n",
              "That fade away in the nigh                 0.332524  0.000000  0.000000   \n",
              "This, this is my life I'm looking for you  0.000000  0.359685  0.283580   \n",
              "This, this my life I'm chasing a dream     0.000000  0.000000  0.329376   \n",
              "\n",
              "                                            looking      love        my  \\\n",
              "Searching love in your eyes                0.000000  0.465162  0.000000   \n",
              "That fade away in the nigh                 0.000000  0.000000  0.000000   \n",
              "This, this is my life I'm looking for you  0.359685  0.000000  0.283580   \n",
              "This, this my life I'm chasing a dream     0.000000  0.000000  0.329376   \n",
              "\n",
              "                                               nigh  searching      that  \\\n",
              "Searching love in your eyes                0.000000   0.465162  0.000000   \n",
              "That fade away in the nigh                 0.421765   0.000000  0.421765   \n",
              "This, this is my life I'm looking for you  0.000000   0.000000  0.000000   \n",
              "This, this my life I'm chasing a dream     0.000000   0.000000  0.000000   \n",
              "\n",
              "                                                the      this       you  \\\n",
              "Searching love in your eyes                0.000000  0.000000  0.000000   \n",
              "That fade away in the nigh                 0.421765  0.000000  0.000000   \n",
              "This, this is my life I'm looking for you  0.000000  0.567160  0.359685   \n",
              "This, this my life I'm chasing a dream     0.000000  0.658753  0.000000   \n",
              "\n",
              "                                               your  \n",
              "Searching love in your eyes                0.465162  \n",
              "That fade away in the nigh                 0.000000  \n",
              "This, this is my life I'm looking for you  0.000000  \n",
              "This, this my life I'm chasing a dream     0.000000  "
            ],
            "text/html": [
              "\n",
              "  <div id=\"df-9eee4187-2a32-4283-8827-409a1beb60ee\" class=\"colab-df-container\">\n",
              "    <div>\n",
              "<style scoped>\n",
              "    .dataframe tbody tr th:only-of-type {\n",
              "        vertical-align: middle;\n",
              "    }\n",
              "\n",
              "    .dataframe tbody tr th {\n",
              "        vertical-align: top;\n",
              "    }\n",
              "\n",
              "    .dataframe thead th {\n",
              "        text-align: right;\n",
              "    }\n",
              "</style>\n",
              "<table border=\"1\" class=\"dataframe\">\n",
              "  <thead>\n",
              "    <tr style=\"text-align: right;\">\n",
              "      <th></th>\n",
              "      <th>away</th>\n",
              "      <th>chasing</th>\n",
              "      <th>dream</th>\n",
              "      <th>eyes</th>\n",
              "      <th>fade</th>\n",
              "      <th>for</th>\n",
              "      <th>in</th>\n",
              "      <th>is</th>\n",
              "      <th>life</th>\n",
              "      <th>looking</th>\n",
              "      <th>love</th>\n",
              "      <th>my</th>\n",
              "      <th>nigh</th>\n",
              "      <th>searching</th>\n",
              "      <th>that</th>\n",
              "      <th>the</th>\n",
              "      <th>this</th>\n",
              "      <th>you</th>\n",
              "      <th>your</th>\n",
              "    </tr>\n",
              "  </thead>\n",
              "  <tbody>\n",
              "    <tr>\n",
              "      <th>Searching love in your eyes</th>\n",
              "      <td>0.000000</td>\n",
              "      <td>0.000000</td>\n",
              "      <td>0.000000</td>\n",
              "      <td>0.465162</td>\n",
              "      <td>0.000000</td>\n",
              "      <td>0.000000</td>\n",
              "      <td>0.366739</td>\n",
              "      <td>0.000000</td>\n",
              "      <td>0.000000</td>\n",
              "      <td>0.000000</td>\n",
              "      <td>0.465162</td>\n",
              "      <td>0.000000</td>\n",
              "      <td>0.000000</td>\n",
              "      <td>0.465162</td>\n",
              "      <td>0.000000</td>\n",
              "      <td>0.000000</td>\n",
              "      <td>0.000000</td>\n",
              "      <td>0.000000</td>\n",
              "      <td>0.465162</td>\n",
              "    </tr>\n",
              "    <tr>\n",
              "      <th>That fade away in the nigh</th>\n",
              "      <td>0.421765</td>\n",
              "      <td>0.000000</td>\n",
              "      <td>0.000000</td>\n",
              "      <td>0.000000</td>\n",
              "      <td>0.421765</td>\n",
              "      <td>0.000000</td>\n",
              "      <td>0.332524</td>\n",
              "      <td>0.000000</td>\n",
              "      <td>0.000000</td>\n",
              "      <td>0.000000</td>\n",
              "      <td>0.000000</td>\n",
              "      <td>0.000000</td>\n",
              "      <td>0.421765</td>\n",
              "      <td>0.000000</td>\n",
              "      <td>0.421765</td>\n",
              "      <td>0.421765</td>\n",
              "      <td>0.000000</td>\n",
              "      <td>0.000000</td>\n",
              "      <td>0.000000</td>\n",
              "    </tr>\n",
              "    <tr>\n",
              "      <th>This, this is my life I'm looking for you</th>\n",
              "      <td>0.000000</td>\n",
              "      <td>0.000000</td>\n",
              "      <td>0.000000</td>\n",
              "      <td>0.000000</td>\n",
              "      <td>0.000000</td>\n",
              "      <td>0.359685</td>\n",
              "      <td>0.000000</td>\n",
              "      <td>0.359685</td>\n",
              "      <td>0.283580</td>\n",
              "      <td>0.359685</td>\n",
              "      <td>0.000000</td>\n",
              "      <td>0.283580</td>\n",
              "      <td>0.000000</td>\n",
              "      <td>0.000000</td>\n",
              "      <td>0.000000</td>\n",
              "      <td>0.000000</td>\n",
              "      <td>0.567160</td>\n",
              "      <td>0.359685</td>\n",
              "      <td>0.000000</td>\n",
              "    </tr>\n",
              "    <tr>\n",
              "      <th>This, this my life I'm chasing a dream</th>\n",
              "      <td>0.000000</td>\n",
              "      <td>0.417772</td>\n",
              "      <td>0.417772</td>\n",
              "      <td>0.000000</td>\n",
              "      <td>0.000000</td>\n",
              "      <td>0.000000</td>\n",
              "      <td>0.000000</td>\n",
              "      <td>0.000000</td>\n",
              "      <td>0.329376</td>\n",
              "      <td>0.000000</td>\n",
              "      <td>0.000000</td>\n",
              "      <td>0.329376</td>\n",
              "      <td>0.000000</td>\n",
              "      <td>0.000000</td>\n",
              "      <td>0.000000</td>\n",
              "      <td>0.000000</td>\n",
              "      <td>0.658753</td>\n",
              "      <td>0.000000</td>\n",
              "      <td>0.000000</td>\n",
              "    </tr>\n",
              "  </tbody>\n",
              "</table>\n",
              "</div>\n",
              "    <div class=\"colab-df-buttons\">\n",
              "\n",
              "  <div class=\"colab-df-container\">\n",
              "    <button class=\"colab-df-convert\" onclick=\"convertToInteractive('df-9eee4187-2a32-4283-8827-409a1beb60ee')\"\n",
              "            title=\"Convert this dataframe to an interactive table.\"\n",
              "            style=\"display:none;\">\n",
              "\n",
              "  <svg xmlns=\"http://www.w3.org/2000/svg\" height=\"24px\" viewBox=\"0 -960 960 960\">\n",
              "    <path d=\"M120-120v-720h720v720H120Zm60-500h600v-160H180v160Zm220 220h160v-160H400v160Zm0 220h160v-160H400v160ZM180-400h160v-160H180v160Zm440 0h160v-160H620v160ZM180-180h160v-160H180v160Zm440 0h160v-160H620v160Z\"/>\n",
              "  </svg>\n",
              "    </button>\n",
              "\n",
              "  <style>\n",
              "    .colab-df-container {\n",
              "      display:flex;\n",
              "      gap: 12px;\n",
              "    }\n",
              "\n",
              "    .colab-df-convert {\n",
              "      background-color: #E8F0FE;\n",
              "      border: none;\n",
              "      border-radius: 50%;\n",
              "      cursor: pointer;\n",
              "      display: none;\n",
              "      fill: #1967D2;\n",
              "      height: 32px;\n",
              "      padding: 0 0 0 0;\n",
              "      width: 32px;\n",
              "    }\n",
              "\n",
              "    .colab-df-convert:hover {\n",
              "      background-color: #E2EBFA;\n",
              "      box-shadow: 0px 1px 2px rgba(60, 64, 67, 0.3), 0px 1px 3px 1px rgba(60, 64, 67, 0.15);\n",
              "      fill: #174EA6;\n",
              "    }\n",
              "\n",
              "    .colab-df-buttons div {\n",
              "      margin-bottom: 4px;\n",
              "    }\n",
              "\n",
              "    [theme=dark] .colab-df-convert {\n",
              "      background-color: #3B4455;\n",
              "      fill: #D2E3FC;\n",
              "    }\n",
              "\n",
              "    [theme=dark] .colab-df-convert:hover {\n",
              "      background-color: #434B5C;\n",
              "      box-shadow: 0px 1px 3px 1px rgba(0, 0, 0, 0.15);\n",
              "      filter: drop-shadow(0px 1px 2px rgba(0, 0, 0, 0.3));\n",
              "      fill: #FFFFFF;\n",
              "    }\n",
              "  </style>\n",
              "\n",
              "    <script>\n",
              "      const buttonEl =\n",
              "        document.querySelector('#df-9eee4187-2a32-4283-8827-409a1beb60ee button.colab-df-convert');\n",
              "      buttonEl.style.display =\n",
              "        google.colab.kernel.accessAllowed ? 'block' : 'none';\n",
              "\n",
              "      async function convertToInteractive(key) {\n",
              "        const element = document.querySelector('#df-9eee4187-2a32-4283-8827-409a1beb60ee');\n",
              "        const dataTable =\n",
              "          await google.colab.kernel.invokeFunction('convertToInteractive',\n",
              "                                                    [key], {});\n",
              "        if (!dataTable) return;\n",
              "\n",
              "        const docLinkHtml = 'Like what you see? Visit the ' +\n",
              "          '<a target=\"_blank\" href=https://colab.research.google.com/notebooks/data_table.ipynb>data table notebook</a>'\n",
              "          + ' to learn more about interactive tables.';\n",
              "        element.innerHTML = '';\n",
              "        dataTable['output_type'] = 'display_data';\n",
              "        await google.colab.output.renderOutput(dataTable, element);\n",
              "        const docLink = document.createElement('div');\n",
              "        docLink.innerHTML = docLinkHtml;\n",
              "        element.appendChild(docLink);\n",
              "      }\n",
              "    </script>\n",
              "  </div>\n",
              "\n",
              "\n",
              "    <div id=\"df-2be33d38-2d64-48e5-bc2e-9f4da3e2ce6e\">\n",
              "      <button class=\"colab-df-quickchart\" onclick=\"quickchart('df-2be33d38-2d64-48e5-bc2e-9f4da3e2ce6e')\"\n",
              "                title=\"Suggest charts\"\n",
              "                style=\"display:none;\">\n",
              "\n",
              "<svg xmlns=\"http://www.w3.org/2000/svg\" height=\"24px\"viewBox=\"0 0 24 24\"\n",
              "     width=\"24px\">\n",
              "    <g>\n",
              "        <path d=\"M19 3H5c-1.1 0-2 .9-2 2v14c0 1.1.9 2 2 2h14c1.1 0 2-.9 2-2V5c0-1.1-.9-2-2-2zM9 17H7v-7h2v7zm4 0h-2V7h2v10zm4 0h-2v-4h2v4z\"/>\n",
              "    </g>\n",
              "</svg>\n",
              "      </button>\n",
              "\n",
              "<style>\n",
              "  .colab-df-quickchart {\n",
              "      --bg-color: #E8F0FE;\n",
              "      --fill-color: #1967D2;\n",
              "      --hover-bg-color: #E2EBFA;\n",
              "      --hover-fill-color: #174EA6;\n",
              "      --disabled-fill-color: #AAA;\n",
              "      --disabled-bg-color: #DDD;\n",
              "  }\n",
              "\n",
              "  [theme=dark] .colab-df-quickchart {\n",
              "      --bg-color: #3B4455;\n",
              "      --fill-color: #D2E3FC;\n",
              "      --hover-bg-color: #434B5C;\n",
              "      --hover-fill-color: #FFFFFF;\n",
              "      --disabled-bg-color: #3B4455;\n",
              "      --disabled-fill-color: #666;\n",
              "  }\n",
              "\n",
              "  .colab-df-quickchart {\n",
              "    background-color: var(--bg-color);\n",
              "    border: none;\n",
              "    border-radius: 50%;\n",
              "    cursor: pointer;\n",
              "    display: none;\n",
              "    fill: var(--fill-color);\n",
              "    height: 32px;\n",
              "    padding: 0;\n",
              "    width: 32px;\n",
              "  }\n",
              "\n",
              "  .colab-df-quickchart:hover {\n",
              "    background-color: var(--hover-bg-color);\n",
              "    box-shadow: 0 1px 2px rgba(60, 64, 67, 0.3), 0 1px 3px 1px rgba(60, 64, 67, 0.15);\n",
              "    fill: var(--button-hover-fill-color);\n",
              "  }\n",
              "\n",
              "  .colab-df-quickchart-complete:disabled,\n",
              "  .colab-df-quickchart-complete:disabled:hover {\n",
              "    background-color: var(--disabled-bg-color);\n",
              "    fill: var(--disabled-fill-color);\n",
              "    box-shadow: none;\n",
              "  }\n",
              "\n",
              "  .colab-df-spinner {\n",
              "    border: 2px solid var(--fill-color);\n",
              "    border-color: transparent;\n",
              "    border-bottom-color: var(--fill-color);\n",
              "    animation:\n",
              "      spin 1s steps(1) infinite;\n",
              "  }\n",
              "\n",
              "  @keyframes spin {\n",
              "    0% {\n",
              "      border-color: transparent;\n",
              "      border-bottom-color: var(--fill-color);\n",
              "      border-left-color: var(--fill-color);\n",
              "    }\n",
              "    20% {\n",
              "      border-color: transparent;\n",
              "      border-left-color: var(--fill-color);\n",
              "      border-top-color: var(--fill-color);\n",
              "    }\n",
              "    30% {\n",
              "      border-color: transparent;\n",
              "      border-left-color: var(--fill-color);\n",
              "      border-top-color: var(--fill-color);\n",
              "      border-right-color: var(--fill-color);\n",
              "    }\n",
              "    40% {\n",
              "      border-color: transparent;\n",
              "      border-right-color: var(--fill-color);\n",
              "      border-top-color: var(--fill-color);\n",
              "    }\n",
              "    60% {\n",
              "      border-color: transparent;\n",
              "      border-right-color: var(--fill-color);\n",
              "    }\n",
              "    80% {\n",
              "      border-color: transparent;\n",
              "      border-right-color: var(--fill-color);\n",
              "      border-bottom-color: var(--fill-color);\n",
              "    }\n",
              "    90% {\n",
              "      border-color: transparent;\n",
              "      border-bottom-color: var(--fill-color);\n",
              "    }\n",
              "  }\n",
              "</style>\n",
              "\n",
              "      <script>\n",
              "        async function quickchart(key) {\n",
              "          const quickchartButtonEl =\n",
              "            document.querySelector('#' + key + ' button');\n",
              "          quickchartButtonEl.disabled = true;  // To prevent multiple clicks.\n",
              "          quickchartButtonEl.classList.add('colab-df-spinner');\n",
              "          try {\n",
              "            const charts = await google.colab.kernel.invokeFunction(\n",
              "                'suggestCharts', [key], {});\n",
              "          } catch (error) {\n",
              "            console.error('Error during call to suggestCharts:', error);\n",
              "          }\n",
              "          quickchartButtonEl.classList.remove('colab-df-spinner');\n",
              "          quickchartButtonEl.classList.add('colab-df-quickchart-complete');\n",
              "        }\n",
              "        (() => {\n",
              "          let quickchartButtonEl =\n",
              "            document.querySelector('#df-2be33d38-2d64-48e5-bc2e-9f4da3e2ce6e button');\n",
              "          quickchartButtonEl.style.display =\n",
              "            google.colab.kernel.accessAllowed ? 'block' : 'none';\n",
              "        })();\n",
              "      </script>\n",
              "    </div>\n",
              "\n",
              "  <div id=\"id_7c607eaf-54a6-48b6-9749-00f35bda3174\">\n",
              "    <style>\n",
              "      .colab-df-generate {\n",
              "        background-color: #E8F0FE;\n",
              "        border: none;\n",
              "        border-radius: 50%;\n",
              "        cursor: pointer;\n",
              "        display: none;\n",
              "        fill: #1967D2;\n",
              "        height: 32px;\n",
              "        padding: 0 0 0 0;\n",
              "        width: 32px;\n",
              "      }\n",
              "\n",
              "      .colab-df-generate:hover {\n",
              "        background-color: #E2EBFA;\n",
              "        box-shadow: 0px 1px 2px rgba(60, 64, 67, 0.3), 0px 1px 3px 1px rgba(60, 64, 67, 0.15);\n",
              "        fill: #174EA6;\n",
              "      }\n",
              "\n",
              "      [theme=dark] .colab-df-generate {\n",
              "        background-color: #3B4455;\n",
              "        fill: #D2E3FC;\n",
              "      }\n",
              "\n",
              "      [theme=dark] .colab-df-generate:hover {\n",
              "        background-color: #434B5C;\n",
              "        box-shadow: 0px 1px 3px 1px rgba(0, 0, 0, 0.15);\n",
              "        filter: drop-shadow(0px 1px 2px rgba(0, 0, 0, 0.3));\n",
              "        fill: #FFFFFF;\n",
              "      }\n",
              "    </style>\n",
              "    <button class=\"colab-df-generate\" onclick=\"generateWithVariable('df')\"\n",
              "            title=\"Generate code using this dataframe.\"\n",
              "            style=\"display:none;\">\n",
              "\n",
              "  <svg xmlns=\"http://www.w3.org/2000/svg\" height=\"24px\"viewBox=\"0 0 24 24\"\n",
              "       width=\"24px\">\n",
              "    <path d=\"M7,19H8.4L18.45,9,17,7.55,7,17.6ZM5,21V16.75L18.45,3.32a2,2,0,0,1,2.83,0l1.4,1.43a1.91,1.91,0,0,1,.58,1.4,1.91,1.91,0,0,1-.58,1.4L9.25,21ZM18.45,9,17,7.55Zm-12,3A5.31,5.31,0,0,0,4.9,8.1,5.31,5.31,0,0,0,1,6.5,5.31,5.31,0,0,0,4.9,4.9,5.31,5.31,0,0,0,6.5,1,5.31,5.31,0,0,0,8.1,4.9,5.31,5.31,0,0,0,12,6.5,5.46,5.46,0,0,0,6.5,12Z\"/>\n",
              "  </svg>\n",
              "    </button>\n",
              "    <script>\n",
              "      (() => {\n",
              "      const buttonEl =\n",
              "        document.querySelector('#id_7c607eaf-54a6-48b6-9749-00f35bda3174 button.colab-df-generate');\n",
              "      buttonEl.style.display =\n",
              "        google.colab.kernel.accessAllowed ? 'block' : 'none';\n",
              "\n",
              "      buttonEl.onclick = () => {\n",
              "        google.colab.notebook.generateWithVariable('df');\n",
              "      }\n",
              "      })();\n",
              "    </script>\n",
              "  </div>\n",
              "\n",
              "    </div>\n",
              "  </div>\n"
            ],
            "application/vnd.google.colaboratory.intrinsic+json": {
              "type": "dataframe",
              "variable_name": "df",
              "summary": "{\n  \"name\": \"df\",\n  \"rows\": 4,\n  \"fields\": [\n    {\n      \"column\": \"away\",\n      \"properties\": {\n        \"dtype\": \"number\",\n        \"std\": 0.2108823910723766,\n        \"min\": 0.0,\n        \"max\": 0.4217647821447532,\n        \"num_unique_values\": 2,\n        \"samples\": [\n          0.4217647821447532,\n          0.0\n        ],\n        \"semantic_type\": \"\",\n        \"description\": \"\"\n      }\n    },\n    {\n      \"column\": \"chasing\",\n      \"properties\": {\n        \"dtype\": \"number\",\n        \"std\": 0.2088860891741562,\n        \"min\": 0.0,\n        \"max\": 0.4177721783483124,\n        \"num_unique_values\": 2,\n        \"samples\": [\n          0.4177721783483124,\n          0.0\n        ],\n        \"semantic_type\": \"\",\n        \"description\": \"\"\n      }\n    },\n    {\n      \"column\": \"dream\",\n      \"properties\": {\n        \"dtype\": \"number\",\n        \"std\": 0.2088860891741562,\n        \"min\": 0.0,\n        \"max\": 0.4177721783483124,\n        \"num_unique_values\": 2,\n        \"samples\": [\n          0.4177721783483124,\n          0.0\n        ],\n        \"semantic_type\": \"\",\n        \"description\": \"\"\n      }\n    },\n    {\n      \"column\": \"eyes\",\n      \"properties\": {\n        \"dtype\": \"number\",\n        \"std\": 0.23258096676111967,\n        \"min\": 0.0,\n        \"max\": 0.4651619335222394,\n        \"num_unique_values\": 2,\n        \"samples\": [\n          0.0,\n          0.4651619335222394\n        ],\n        \"semantic_type\": \"\",\n        \"description\": \"\"\n      }\n    },\n    {\n      \"column\": \"fade\",\n      \"properties\": {\n        \"dtype\": \"number\",\n        \"std\": 0.2108823910723766,\n        \"min\": 0.0,\n        \"max\": 0.4217647821447532,\n        \"num_unique_values\": 2,\n        \"samples\": [\n          0.4217647821447532,\n          0.0\n        ],\n        \"semantic_type\": \"\",\n        \"description\": \"\"\n      }\n    },\n    {\n      \"column\": \"for\",\n      \"properties\": {\n        \"dtype\": \"number\",\n        \"std\": 0.17984266500739743,\n        \"min\": 0.0,\n        \"max\": 0.35968533001479486,\n        \"num_unique_values\": 2,\n        \"samples\": [\n          0.35968533001479486,\n          0.0\n        ],\n        \"semantic_type\": \"\",\n        \"description\": \"\"\n      }\n    },\n    {\n      \"column\": \"in\",\n      \"properties\": {\n        \"dtype\": \"number\",\n        \"std\": 0.20234260212996805,\n        \"min\": 0.0,\n        \"max\": 0.3667390112974172,\n        \"num_unique_values\": 3,\n        \"samples\": [\n          0.3667390112974172,\n          0.3325241986862672\n        ],\n        \"semantic_type\": \"\",\n        \"description\": \"\"\n      }\n    },\n    {\n      \"column\": \"is\",\n      \"properties\": {\n        \"dtype\": \"number\",\n        \"std\": 0.17984266500739743,\n        \"min\": 0.0,\n        \"max\": 0.35968533001479486,\n        \"num_unique_values\": 2,\n        \"samples\": [\n          0.35968533001479486,\n          0.0\n        ],\n        \"semantic_type\": \"\",\n        \"description\": \"\"\n      }\n    },\n    {\n      \"column\": \"life\",\n      \"properties\": {\n        \"dtype\": \"number\",\n        \"std\": 0.17793027514876633,\n        \"min\": 0.0,\n        \"max\": 0.3293763839936038,\n        \"num_unique_values\": 3,\n        \"samples\": [\n          0.0,\n          0.28358004557461153\n        ],\n        \"semantic_type\": \"\",\n        \"description\": \"\"\n      }\n    },\n    {\n      \"column\": \"looking\",\n      \"properties\": {\n        \"dtype\": \"number\",\n        \"std\": 0.17984266500739743,\n        \"min\": 0.0,\n        \"max\": 0.35968533001479486,\n        \"num_unique_values\": 2,\n        \"samples\": [\n          0.35968533001479486,\n          0.0\n        ],\n        \"semantic_type\": \"\",\n        \"description\": \"\"\n      }\n    },\n    {\n      \"column\": \"love\",\n      \"properties\": {\n        \"dtype\": \"number\",\n        \"std\": 0.23258096676111967,\n        \"min\": 0.0,\n        \"max\": 0.4651619335222394,\n        \"num_unique_values\": 2,\n        \"samples\": [\n          0.0,\n          0.4651619335222394\n        ],\n        \"semantic_type\": \"\",\n        \"description\": \"\"\n      }\n    },\n    {\n      \"column\": \"my\",\n      \"properties\": {\n        \"dtype\": \"number\",\n        \"std\": 0.17793027514876633,\n        \"min\": 0.0,\n        \"max\": 0.3293763839936038,\n        \"num_unique_values\": 3,\n        \"samples\": [\n          0.0,\n          0.28358004557461153\n        ],\n        \"semantic_type\": \"\",\n        \"description\": \"\"\n      }\n    },\n    {\n      \"column\": \"nigh\",\n      \"properties\": {\n        \"dtype\": \"number\",\n        \"std\": 0.2108823910723766,\n        \"min\": 0.0,\n        \"max\": 0.4217647821447532,\n        \"num_unique_values\": 2,\n        \"samples\": [\n          0.4217647821447532,\n          0.0\n        ],\n        \"semantic_type\": \"\",\n        \"description\": \"\"\n      }\n    },\n    {\n      \"column\": \"searching\",\n      \"properties\": {\n        \"dtype\": \"number\",\n        \"std\": 0.23258096676111967,\n        \"min\": 0.0,\n        \"max\": 0.4651619335222394,\n        \"num_unique_values\": 2,\n        \"samples\": [\n          0.0,\n          0.4651619335222394\n        ],\n        \"semantic_type\": \"\",\n        \"description\": \"\"\n      }\n    },\n    {\n      \"column\": \"that\",\n      \"properties\": {\n        \"dtype\": \"number\",\n        \"std\": 0.2108823910723766,\n        \"min\": 0.0,\n        \"max\": 0.4217647821447532,\n        \"num_unique_values\": 2,\n        \"samples\": [\n          0.4217647821447532,\n          0.0\n        ],\n        \"semantic_type\": \"\",\n        \"description\": \"\"\n      }\n    },\n    {\n      \"column\": \"the\",\n      \"properties\": {\n        \"dtype\": \"number\",\n        \"std\": 0.2108823910723766,\n        \"min\": 0.0,\n        \"max\": 0.4217647821447532,\n        \"num_unique_values\": 2,\n        \"samples\": [\n          0.4217647821447532,\n          0.0\n        ],\n        \"semantic_type\": \"\",\n        \"description\": \"\"\n      }\n    },\n    {\n      \"column\": \"this\",\n      \"properties\": {\n        \"dtype\": \"number\",\n        \"std\": 0.35586055029753266,\n        \"min\": 0.0,\n        \"max\": 0.6587527679872076,\n        \"num_unique_values\": 3,\n        \"samples\": [\n          0.0,\n          0.5671600911492231\n        ],\n        \"semantic_type\": \"\",\n        \"description\": \"\"\n      }\n    },\n    {\n      \"column\": \"you\",\n      \"properties\": {\n        \"dtype\": \"number\",\n        \"std\": 0.17984266500739743,\n        \"min\": 0.0,\n        \"max\": 0.35968533001479486,\n        \"num_unique_values\": 2,\n        \"samples\": [\n          0.35968533001479486,\n          0.0\n        ],\n        \"semantic_type\": \"\",\n        \"description\": \"\"\n      }\n    },\n    {\n      \"column\": \"your\",\n      \"properties\": {\n        \"dtype\": \"number\",\n        \"std\": 0.23258096676111967,\n        \"min\": 0.0,\n        \"max\": 0.4651619335222394,\n        \"num_unique_values\": 2,\n        \"samples\": [\n          0.0,\n          0.4651619335222394\n        ],\n        \"semantic_type\": \"\",\n        \"description\": \"\"\n      }\n    }\n  ]\n}"
            }
          },
          "metadata": {},
          "execution_count": 40
        }
      ]
    }
  ]
}